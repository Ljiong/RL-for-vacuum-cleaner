{
 "cells": [
  {
   "cell_type": "markdown",
   "metadata": {},
   "source": [
    "# Headless"
   ]
  },
  {
   "cell_type": "markdown",
   "metadata": {},
   "source": [
    "Please run all cells to get and save the figure that is similar to the figure in our experiments. We intentionally set **smaller episode number** to make readers can plot and reproduce the results in a short time, so the performance of algorithms will suffer a loss because of that. The results figure is saved in the current directory with name **test_results.png**. "
   ]
  },
  {
   "cell_type": "code",
   "execution_count": 1,
   "metadata": {},
   "outputs": [],
   "source": [
    "from mlagents_envs.environment import UnityEnvironment as UE\n",
    "import numpy as np\n",
    "import torch\n",
    "import random\n",
    "from collections import deque\n",
    "from dqn_agent import Agent_withoutPER, Agent_withPER\n",
    "import os\n",
    "import json\n",
    "import matplotlib.pyplot as plt\n",
    "from matplotlib.ticker import MaxNLocator\n",
    "%matplotlib inline"
   ]
  },
  {
   "cell_type": "markdown",
   "metadata": {},
   "source": [
    "### Instruction - Use the correct environment path \n",
    "please use the correct version to run the test. The **first ENV_PATH** is for MACOS, the **second ENV_PATH** is for Windows."
   ]
  },
  {
   "cell_type": "code",
   "execution_count": 2,
   "metadata": {},
   "outputs": [],
   "source": [
    "ENV_PATH = \"environment-MAC/en.app\""
   ]
  },
  {
   "cell_type": "code",
   "execution_count": null,
   "metadata": {},
   "outputs": [],
   "source": [
    "ENV_PATH = \"environment-Windows/en.exe\""
   ]
  },
  {
   "cell_type": "code",
   "execution_count": 3,
   "metadata": {},
   "outputs": [],
   "source": [
    "f = open('best_parameters.json')\n",
    "para_data = json.load(f)\n",
    "para_mix = para_data['Mix-All']\n",
    "para_DQN = para_data['DQN-vanilla']\n",
    "para_PER = para_data['PER']\n",
    "para_Noisy = para_data['Noisy_Net']\n",
    "para_Dueling = para_data['Dueling']\n",
    "para_Dueling_Noisy = para_data['Dueling+Noisy']\n",
    "para_PER_Noisy = para_data['PER+Noisy']\n",
    "para_Dueling_PER = para_data['Dueling+PER']"
   ]
  },
  {
   "cell_type": "markdown",
   "metadata": {},
   "source": [
    "### Instruction - Change the port \n",
    "We use the port 5004 to run the envoriment. If you would like to change it, please change the number \"5004\" in line 9 of next cell to the port you would like to use. "
   ]
  },
  {
   "cell_type": "code",
   "execution_count": 5,
   "metadata": {},
   "outputs": [],
   "source": [
    "def initialise_env(ENV_PATH):\n",
    "    \"\"\"\n",
    "    Initialise environment for testing\n",
    "    \n",
    "    Params\n",
    "    ======\n",
    "        ENV_PATH: The path of provided environment.\n",
    "    \"\"\"\n",
    "    env = UE(base_port=5004,file_name=ENV_PATH, seed=1, side_channels=[])\n",
    "    env.step()\n",
    "    # in this project, we are only using one agent, so we will only work on the first `brain` in the environmet\n",
    "    # get the default brain\n",
    "    brain_name = list(env.behavior_specs.keys())[0]\n",
    "    brain = env.behavior_specs[brain_name]\n",
    "    return env, brain, brain_name"
   ]
  },
  {
   "cell_type": "code",
   "execution_count": 6,
   "metadata": {},
   "outputs": [],
   "source": [
    "def reload_env():\n",
    "    \"\"\"\n",
    "    Reload environment before testing.\n",
    "    \n",
    "    \"\"\"\n",
    "    env, brain, brain_name = initialise_env(ENV_PATH)\n",
    "    spec = env.behavior_specs[brain_name]\n",
    "    actions = []\n",
    "    for act in range(5):\n",
    "        actions.append(spec.action_spec.empty_action(1))\n",
    "        actions[act].add_discrete(np.int32([[act]]))\n",
    "    action_size = list(brain.action_spec)[1][0]\n",
    "    state_size = len(brain.observation_specs)\n",
    "    return env, brain, brain_name, actions, action_size, state_size "
   ]
  },
  {
   "cell_type": "code",
   "execution_count": 7,
   "metadata": {},
   "outputs": [],
   "source": [
    "def save_test_results(PER_flag, Dueling_flag, Noisy_flag):\n",
    "    \"\"\"\n",
    "    Save average return per episode for each algorithm\n",
    "    \n",
    "    Params\n",
    "    ======\n",
    "        PER_flag: The flag of whether using PER or not.\n",
    "        Dueling_flag: The flag of whether using Dueling or not.\n",
    "        Noisy_flag: The flag of whether using Noisy Net or not.\n",
    "    \"\"\"\n",
    "    if PER_flag == True:\n",
    "        if Dueling_flag == True and Noisy_flag == True:\n",
    "            agent = Agent_withPER(state_size=state_size, action_size=action_size, seed=0, Dueling_flag=Dueling_flag, Noisy_flag=Noisy_flag, capacity=para_mix['CAPACITY_PER'], gamma=para_mix['GAMMA'], prob_alpha=para_mix['PROB_ALPHA'], beta=para_mix['BETA'], batch_size=para_mix['BATCH_SIZE'], update_every=para_mix['UPDATE_EVERY'], tau=para_mix['TAU'], lr=para_mix['LR'])\n",
    "            if os.path.isfile('./checkpoint_all.pth'):\n",
    "                # load the weights from file\n",
    "                print(\"yes!\")\n",
    "                agent.qnetwork_local.load_state_dict(torch.load('checkpoint_all.pth'))\n",
    "        elif Dueling_flag == True and Noisy_flag == False:\n",
    "            agent = Agent_withPER(state_size=state_size, action_size=action_size, seed=0, Dueling_flag=Dueling_flag, Noisy_flag=Noisy_flag, capacity=para_Dueling_PER['CAPACITY_PER'], gamma=para_Dueling_PER['GAMMA'], prob_alpha=para_Dueling_PER['PROB_ALPHA'], beta=para_Dueling_PER['BETA'], batch_size=para_Dueling_PER['BATCH_SIZE'], update_every=para_Dueling_PER['UPDATE_EVERY'], tau=para_Dueling_PER['TAU'], lr=para_Dueling_PER['LR'])\n",
    "            if os.path.isfile('./checkpoint_Dueling_PER.pth'):\n",
    "                # load the weights from file\n",
    "                agent.qnetwork_local.load_state_dict(torch.load('checkpoint_Dueling_PER.pth'))\n",
    "        \n",
    "        elif Dueling_flag == False and Noisy_flag == True:\n",
    "            agent = Agent_withPER(state_size=state_size, action_size=action_size, seed=0, Dueling_flag=Dueling_flag, Noisy_flag=Noisy_flag, capacity=para_PER_Noisy['CAPACITY_PER'], gamma=para_PER_Noisy['GAMMA'], prob_alpha=para_PER_Noisy['PROB_ALPHA'], beta=para_PER_Noisy['BETA'], batch_size=para_PER_Noisy['BATCH_SIZE'], update_every=para_PER_Noisy['UPDATE_EVERY'], tau=para_PER_Noisy['TAU'], lr=para_PER_Noisy['LR'])\n",
    "            if os.path.isfile('./checkpoint_PER_Noisy.pth'):\n",
    "                # load the weights from file\n",
    "                agent.qnetwork_local.load_state_dict(torch.load('checkpoint_PER_Noisy.pth'))\n",
    "        \n",
    "        else:\n",
    "            agent = Agent_withPER(state_size=state_size, action_size=action_size, seed=0, Dueling_flag=Dueling_flag, Noisy_flag=Noisy_flag, capacity=para_PER['CAPACITY_PER'], gamma=para_PER['GAMMA'], prob_alpha=para_PER['PROB_ALPHA'], beta=para_PER['BETA'], batch_size=para_PER['BATCH_SIZE'], update_every=para_PER['UPDATE_EVERY'], tau=para_PER['TAU'], lr=para_PER['LR'])    \n",
    "            if os.path.isfile('./checkpoint_PER.pth'):\n",
    "                # load the weights from file\n",
    "                agent.qnetwork_local.load_state_dict(torch.load('checkpoint_PER.pth'))\n",
    "    \n",
    "    else:\n",
    "        if Dueling_flag == True and Noisy_flag == True:\n",
    "            agent = Agent_withoutPER(state_size=state_size, action_size=action_size, seed=0, Dueling_flag=Dueling_flag, Noisy_flag=Noisy_flag, buffer_size=para_Dueling_Noisy['BUFFER_SIZE'], gamma=para_Dueling_Noisy['GAMMA'], batch_size=para_Dueling_Noisy['BATCH_SIZE'], update_every=para_Dueling_Noisy['UPDATE_EVERY'], tau=para_Dueling_Noisy['TAU'], lr=para_Dueling_Noisy['LR'])\n",
    "            if os.path.isfile('./checkpoint_Dueling_Noisy.pth'):\n",
    "                # load the weights from file\n",
    "                agent.qnetwork_local.load_state_dict(torch.load('checkpoint_Dueling_Noisy.pth'))\n",
    "        \n",
    "        elif Dueling_flag == True and Noisy_flag == False:\n",
    "            agent = Agent_withoutPER(state_size=state_size, action_size=action_size, seed=0, Dueling_flag=Dueling_flag, Noisy_flag=Noisy_flag, buffer_size=para_Dueling['BUFFER_SIZE'], gamma=para_Dueling['GAMMA'], batch_size=para_Dueling['BATCH_SIZE'], update_every=para_Dueling['UPDATE_EVERY'], tau=para_Dueling['TAU'], lr=para_Dueling['LR'])\n",
    "            if os.path.isfile('./checkpoint_Dueling.pth'):\n",
    "                # load the weights from file\n",
    "                agent.qnetwork_local.load_state_dict(torch.load('checkpoint_Dueling.pth'))\n",
    "        \n",
    "        elif Dueling_flag == False and Noisy_flag == True:\n",
    "            agent = Agent_withoutPER(state_size=state_size, action_size=action_size, seed=0, Dueling_flag=Dueling_flag, Noisy_flag=Noisy_flag, buffer_size=para_Noisy['BUFFER_SIZE'], gamma=para_Noisy['GAMMA'], batch_size=para_Noisy['BATCH_SIZE'], update_every=para_Noisy['UPDATE_EVERY'], tau=para_Noisy['TAU'], lr=para_Noisy['LR'])\n",
    "            if os.path.isfile('./checkpoint_Noisy.pth'):\n",
    "                # load the weights from file\n",
    "                agent.qnetwork_local.load_state_dict(torch.load('checkpoint_Noisy.pth'))\n",
    "        \n",
    "        else:\n",
    "            agent = Agent_withoutPER(state_size=state_size, action_size=action_size, seed=0, Dueling_flag=Dueling_flag, Noisy_flag=Noisy_flag, buffer_size=para_DQN['BUFFER_SIZE'], gamma=para_DQN['GAMMA'], batch_size=para_DQN['BATCH_SIZE'], update_every=para_DQN['UPDATE_EVERY'], tau=para_DQN['TAU'], lr=para_DQN['LR'])\n",
    "            if os.path.isfile('./checkpoint_vanilla.pth'):\n",
    "                # load the weights from file\n",
    "                agent.qnetwork_local.load_state_dict(torch.load('checkpoint_vanilla.pth'))\n",
    "\n",
    "\n",
    "    \n",
    "    scores, average_scores = test_agent(agent, n_episodes=10)\n",
    "    test_results.append(average_scores)\n",
    "    env.close()"
   ]
  },
  {
   "cell_type": "code",
   "execution_count": 8,
   "metadata": {},
   "outputs": [],
   "source": [
    "# Initialize the list to save the average return per episode and their 95% CI.\n",
    "test_results = []\n",
    "CI_saved = []"
   ]
  },
  {
   "cell_type": "code",
   "execution_count": 9,
   "metadata": {},
   "outputs": [],
   "source": [
    "def test_agent(agent, n_episodes=2, max_t=100, eps_start=1.0, eps_end=0.1, eps_decay=0.99):\n",
    "    \"\"\"\n",
    "    DQN and its variants test.\n",
    "    \n",
    "    Params\n",
    "    ======\n",
    "        n_episodes (int): maximum number of training episodes\n",
    "        max_t (int): maximum number of timesteps per episode\n",
    "        eps_start (float): starting value of epsilon, for epsilon-greedy action selection\n",
    "        eps_end (float): minimum value of epsilon\n",
    "        eps_decay (float): multiplicative factor (per episode) for decreasing epsilon\n",
    "    \"\"\"\n",
    "    # choose the algorithm for the agent.\n",
    "#     if PER_flag == True:\n",
    "#         agent = Agent_withPER(state_size=state_size, action_size=action_size, seed=0, Dueling_flag=Dueling_flag, Noisy_flag=Noisy_flag)\n",
    "#     else:\n",
    "#         agent = Agent_withoutPER(state_size=state_size, action_size=action_size, seed=0, Dueling_flag=Dueling_flag, Noisy_flag=Noisy_flag)\n",
    "    \n",
    "    scores = []                        # list containing scores from each episode\n",
    "    scores_window = deque(maxlen=100)  # last 100 scores\n",
    "    eps = eps_start                    # initialize epsilon\n",
    "    average_scores = []\n",
    "    \n",
    "    \n",
    "    rewards =0\n",
    "    for i_episode in range(1, n_episodes+1):\n",
    "        # every episode we reset the environment to start state\n",
    "        env.reset()\n",
    "#         print(\"~~~~~~~~~~~~~~~~~~~~\")\n",
    "        decision_steps, terminal_steps = env.get_steps(brain_name)\n",
    "        ray_sensor_1 = decision_steps.obs[0]\n",
    "        ray_sensor_2 = decision_steps.obs[1]\n",
    "        state = np.concatenate((ray_sensor_1, ray_sensor_2), axis=1)\n",
    "        \n",
    "        tracked_agent = -1\n",
    "        done = False\n",
    "        score = 0\n",
    "        for t in range(max_t):\n",
    "            reward = 0\n",
    "            if tracked_agent == -1 and len(decision_steps) >= 1:\n",
    "                tracked_agent = decision_steps.agent_id[0]\n",
    "            action = agent.act(state, eps)\n",
    "            env.set_actions(brain_name, actions[action])\n",
    "            env.step()\n",
    "            \n",
    "            decision_steps, terminal_steps = env.get_steps(brain_name)\n",
    "            if len(decision_steps.obs[0]) != 1:\n",
    "                env.reset()\n",
    "            else: \n",
    "                ray_sensor_1 = decision_steps.obs[0]\n",
    "                \n",
    "            if len(decision_steps.obs[1]) != 1:\n",
    "                env.reset()\n",
    "            else: \n",
    "                ray_sensor_2 = decision_steps.obs[1]\n",
    "                \n",
    "            if len(decision_steps.obs[3]) == 0:\n",
    "                env.reset()\n",
    "            else: \n",
    "                battery = decision_steps.obs[3][0][0]\n",
    "\n",
    "            next_state = np.concatenate((ray_sensor_1, ray_sensor_2), axis=1)\n",
    "            \n",
    "            if battery == 0: # if the battery use up, give a penalty\n",
    "                reward = -2\n",
    "            else:\n",
    "                reward = 0\n",
    "\n",
    "            if tracked_agent in decision_steps:# The agent requested a decision\n",
    "                reward += decision_steps[tracked_agent].reward  # get the reward\n",
    "                agent.step(state, action, reward, next_state, False)\n",
    "            if tracked_agent in terminal_steps: # The agent terminated its episode\n",
    "                reward += terminal_steps[tracked_agent].reward# get the reward\n",
    "                agent.step(state, action, reward, next_state, True)\n",
    "                break\n",
    "                \n",
    "            state = next_state\n",
    "            score += reward\n",
    "            \n",
    "        \n",
    "        scores_window.append(score)       # save most recent score\n",
    "#         print(scores_window)\n",
    "        scores.append(score)              # save most recent score\n",
    "        eps = max(eps_end, eps_decay*eps) # decrease epsilon\n",
    "        \n",
    "        average_scores.append(np.mean(scores))\n",
    "        print('\\rEpisode {}\\tAverage Score: {:.2f}'.format(i_episode, np.mean(scores)))\n",
    "        print('\\rEpisode {}\\tScore: {:.2f}'.format(i_episode, score))\n",
    "        if i_episode % 50 == 0:\n",
    "            print('\\rEpisode {}\\tAverage Score: {:.2f}'.format(i_episode, np.mean(scores)))\n",
    "            torch.save(agent.qnetwork_local.state_dict(), 'checkpoint.pth')\n",
    "            print('saved temporary learned weight')\n",
    "        if score >=20.0:\n",
    "            print('\\nThie environment solved in {:d} episodes!\\tAverage Score: {:.2f}'.format(i_episode-100, np.mean(scores_window)))\n",
    "            torch.save(agent.qnetwork_local.state_dict(), 'checkpoint.pth')\n",
    "            print('agent done training for this episode')\n",
    "            break\n",
    "    return scores, average_scores"
   ]
  },
  {
   "cell_type": "code",
   "execution_count": 10,
   "metadata": {},
   "outputs": [
    {
     "name": "stdout",
     "output_type": "stream",
     "text": [
      "[UnityMemory] Configuration Parameters - Can be set up in boot.config\n",
      "    \"memorysetup-bucket-allocator-granularity=16\"\n",
      "    \"memorysetup-bucket-allocator-bucket-count=8\"\n",
      "    \"memorysetup-bucket-allocator-block-size=4194304\"\n",
      "    \"memorysetup-bucket-allocator-block-count=1\"\n",
      "    \"memorysetup-main-allocator-block-size=16777216\"\n",
      "    \"memorysetup-thread-allocator-block-size=16777216\"\n",
      "    \"memorysetup-gfx-main-allocator-block-size=16777216\"\n",
      "    \"memorysetup-gfx-thread-allocator-block-size=16777216\"\n",
      "    \"memorysetup-cache-allocator-block-size=4194304\"\n",
      "    \"memorysetup-typetree-allocator-block-size=2097152\"\n",
      "    \"memorysetup-profiler-bucket-allocator-granularity=16\"\n",
      "    \"memorysetup-profiler-bucket-allocator-bucket-count=8\"\n",
      "    \"memorysetup-profiler-bucket-allocator-block-size=4194304\"\n",
      "    \"memorysetup-profiler-bucket-allocator-block-count=1\"\n",
      "    \"memorysetup-profiler-allocator-block-size=16777216\"\n",
      "    \"memorysetup-profiler-editor-allocator-block-size=1048576\"\n",
      "    \"memorysetup-temp-allocator-size-main=4194304\"\n",
      "    \"memorysetup-job-temp-allocator-block-size=2097152\"\n",
      "    \"memorysetup-job-temp-allocator-block-size-background=1048576\"\n",
      "    \"memorysetup-job-temp-allocator-reduction-small-platforms=262144\"\n",
      "    \"memorysetup-temp-allocator-size-background-worker=32768\"\n",
      "    \"memorysetup-temp-allocator-size-job-worker=262144\"\n",
      "    \"memorysetup-temp-allocator-size-preload-manager=262144\"\n",
      "    \"memorysetup-temp-allocator-size-nav-mesh-worker=65536\"\n",
      "    \"memorysetup-temp-allocator-size-audio-worker=65536\"\n",
      "    \"memorysetup-temp-allocator-size-cloud-worker=32768\"\n",
      "    \"memorysetup-temp-allocator-size-gfx=262144\"\n"
     ]
    },
    {
     "name": "stderr",
     "output_type": "stream",
     "text": [
      "E0619 05:25:17.341002000 8639927808 fork_posix.cc:76]                  Other threads are currently calling into gRPC, skipping fork() handlers\n"
     ]
    }
   ],
   "source": [
    "env, brain, brain_name, actions, action_size, state_size = reload_env()"
   ]
  },
  {
   "cell_type": "code",
   "execution_count": 11,
   "metadata": {},
   "outputs": [
    {
     "name": "stdout",
     "output_type": "stream",
     "text": [
      "yes!\n",
      "Episode 1\tAverage Score: 0.00\n",
      "Episode 1\tScore: 0.00\n",
      "Episode 2\tAverage Score: 0.00\n",
      "Episode 2\tScore: 0.00\n",
      "Episode 3\tAverage Score: 0.33\n",
      "Episode 3\tScore: 1.00\n",
      "Episode 4\tAverage Score: 0.50\n",
      "Episode 4\tScore: 1.00\n",
      "Episode 5\tAverage Score: 0.60\n",
      "Episode 5\tScore: 1.00\n",
      "Episode 6\tAverage Score: 0.50\n",
      "Episode 6\tScore: 0.00\n",
      "Episode 7\tAverage Score: 0.43\n",
      "Episode 7\tScore: 0.00\n",
      "Episode 8\tAverage Score: 0.50\n",
      "Episode 8\tScore: 1.00\n",
      "Episode 9\tAverage Score: 0.44\n",
      "Episode 9\tScore: 0.00\n",
      "Episode 10\tAverage Score: 0.60\n",
      "Episode 10\tScore: 2.00\n"
     ]
    }
   ],
   "source": [
    "# Test for mixing PER, Dueling, Noisy_net\n",
    "PER_flag = True\n",
    "Dueling_flag = True\n",
    "Noisy_flag = True\n",
    "save_test_results(PER_flag, Dueling_flag, Noisy_flag)"
   ]
  },
  {
   "cell_type": "code",
   "execution_count": 12,
   "metadata": {},
   "outputs": [
    {
     "name": "stderr",
     "output_type": "stream",
     "text": [
      "E0619 05:27:01.935481000 8639927808 fork_posix.cc:76]                  Other threads are currently calling into gRPC, skipping fork() handlers\n"
     ]
    },
    {
     "name": "stdout",
     "output_type": "stream",
     "text": [
      "[UnityMemory] Configuration Parameters - Can be set up in boot.config\n",
      "    \"memorysetup-bucket-allocator-granularity=16\"\n",
      "    \"memorysetup-bucket-allocator-bucket-count=8\"\n",
      "    \"memorysetup-bucket-allocator-block-size=4194304\"\n",
      "    \"memorysetup-bucket-allocator-block-count=1\"\n",
      "    \"memorysetup-main-allocator-block-size=16777216\"\n",
      "    \"memorysetup-thread-allocator-block-size=16777216\"\n",
      "    \"memorysetup-gfx-main-allocator-block-size=16777216\"\n",
      "    \"memorysetup-gfx-thread-allocator-block-size=16777216\"\n",
      "    \"memorysetup-cache-allocator-block-size=4194304\"\n",
      "    \"memorysetup-typetree-allocator-block-size=2097152\"\n",
      "    \"memorysetup-profiler-bucket-allocator-granularity=16\"\n",
      "    \"memorysetup-profiler-bucket-allocator-bucket-count=8\"\n",
      "    \"memorysetup-profiler-bucket-allocator-block-size=4194304\"\n",
      "    \"memorysetup-profiler-bucket-allocator-block-count=1\"\n",
      "    \"memorysetup-profiler-allocator-block-size=16777216\"\n",
      "    \"memorysetup-profiler-editor-allocator-block-size=1048576\"\n",
      "    \"memorysetup-temp-allocator-size-main=4194304\"\n",
      "    \"memorysetup-job-temp-allocator-block-size=2097152\"\n",
      "    \"memorysetup-job-temp-allocator-block-size-background=1048576\"\n",
      "    \"memorysetup-job-temp-allocator-reduction-small-platforms=262144\"\n",
      "    \"memorysetup-temp-allocator-size-background-worker=32768\"\n",
      "    \"memorysetup-temp-allocator-size-job-worker=262144\"\n",
      "    \"memorysetup-temp-allocator-size-preload-manager=262144\"\n",
      "    \"memorysetup-temp-allocator-size-nav-mesh-worker=65536\"\n",
      "    \"memorysetup-temp-allocator-size-audio-worker=65536\"\n",
      "    \"memorysetup-temp-allocator-size-cloud-worker=32768\"\n",
      "    \"memorysetup-temp-allocator-size-gfx=262144\"\n"
     ]
    }
   ],
   "source": [
    "env, brain, brain_name, actions, action_size, state_size = reload_env()"
   ]
  },
  {
   "cell_type": "code",
   "execution_count": 13,
   "metadata": {},
   "outputs": [
    {
     "name": "stdout",
     "output_type": "stream",
     "text": [
      "Episode 1\tAverage Score: 0.00\n",
      "Episode 1\tScore: 0.00\n",
      "Episode 2\tAverage Score: 0.00\n",
      "Episode 2\tScore: 0.00\n",
      "Episode 3\tAverage Score: 0.33\n",
      "Episode 3\tScore: 1.00\n",
      "Episode 4\tAverage Score: 0.50\n",
      "Episode 4\tScore: 1.00\n",
      "Episode 5\tAverage Score: 0.60\n",
      "Episode 5\tScore: 1.00\n",
      "Episode 6\tAverage Score: 0.50\n",
      "Episode 6\tScore: 0.00\n",
      "Episode 7\tAverage Score: 0.43\n",
      "Episode 7\tScore: 0.00\n",
      "Episode 8\tAverage Score: 0.38\n",
      "Episode 8\tScore: 0.00\n",
      "Episode 9\tAverage Score: 0.33\n",
      "Episode 9\tScore: 0.00\n",
      "Episode 10\tAverage Score: 0.40\n",
      "Episode 10\tScore: 1.00\n"
     ]
    }
   ],
   "source": [
    "# Test for vanilla DQN\n",
    "PER_flag = False\n",
    "Dueling_flag = False\n",
    "Noisy_flag = False\n",
    "save_test_results(PER_flag, Dueling_flag, Noisy_flag)"
   ]
  },
  {
   "cell_type": "code",
   "execution_count": 14,
   "metadata": {},
   "outputs": [
    {
     "name": "stderr",
     "output_type": "stream",
     "text": [
      "E0619 05:28:46.362440000 8639927808 fork_posix.cc:76]                  Other threads are currently calling into gRPC, skipping fork() handlers\n"
     ]
    },
    {
     "name": "stdout",
     "output_type": "stream",
     "text": [
      "[UnityMemory] Configuration Parameters - Can be set up in boot.config\n",
      "    \"memorysetup-bucket-allocator-granularity=16\"\n",
      "    \"memorysetup-bucket-allocator-bucket-count=8\"\n",
      "    \"memorysetup-bucket-allocator-block-size=4194304\"\n",
      "    \"memorysetup-bucket-allocator-block-count=1\"\n",
      "    \"memorysetup-main-allocator-block-size=16777216\"\n",
      "    \"memorysetup-thread-allocator-block-size=16777216\"\n",
      "    \"memorysetup-gfx-main-allocator-block-size=16777216\"\n",
      "    \"memorysetup-gfx-thread-allocator-block-size=16777216\"\n",
      "    \"memorysetup-cache-allocator-block-size=4194304\"\n",
      "    \"memorysetup-typetree-allocator-block-size=2097152\"\n",
      "    \"memorysetup-profiler-bucket-allocator-granularity=16\"\n",
      "    \"memorysetup-profiler-bucket-allocator-bucket-count=8\"\n",
      "    \"memorysetup-profiler-bucket-allocator-block-size=4194304\"\n",
      "    \"memorysetup-profiler-bucket-allocator-block-count=1\"\n",
      "    \"memorysetup-profiler-allocator-block-size=16777216\"\n",
      "    \"memorysetup-profiler-editor-allocator-block-size=1048576\"\n",
      "    \"memorysetup-temp-allocator-size-main=4194304\"\n",
      "    \"memorysetup-job-temp-allocator-block-size=2097152\"\n",
      "    \"memorysetup-job-temp-allocator-block-size-background=1048576\"\n",
      "    \"memorysetup-job-temp-allocator-reduction-small-platforms=262144\"\n",
      "    \"memorysetup-temp-allocator-size-background-worker=32768\"\n",
      "    \"memorysetup-temp-allocator-size-job-worker=262144\"\n",
      "    \"memorysetup-temp-allocator-size-preload-manager=262144\"\n",
      "    \"memorysetup-temp-allocator-size-nav-mesh-worker=65536\"\n",
      "    \"memorysetup-temp-allocator-size-audio-worker=65536\"\n",
      "    \"memorysetup-temp-allocator-size-cloud-worker=32768\"\n",
      "    \"memorysetup-temp-allocator-size-gfx=262144\"\n"
     ]
    }
   ],
   "source": [
    "env, brain, brain_name, actions, action_size, state_size = reload_env()"
   ]
  },
  {
   "cell_type": "code",
   "execution_count": 15,
   "metadata": {},
   "outputs": [
    {
     "name": "stdout",
     "output_type": "stream",
     "text": [
      "Episode 1\tAverage Score: 0.00\n",
      "Episode 1\tScore: 0.00\n",
      "Episode 2\tAverage Score: 0.00\n",
      "Episode 2\tScore: 0.00\n",
      "Episode 3\tAverage Score: 0.33\n",
      "Episode 3\tScore: 1.00\n",
      "Episode 4\tAverage Score: 0.50\n",
      "Episode 4\tScore: 1.00\n",
      "Episode 5\tAverage Score: 0.40\n",
      "Episode 5\tScore: 0.00\n",
      "Episode 6\tAverage Score: 0.33\n",
      "Episode 6\tScore: 0.00\n",
      "Episode 7\tAverage Score: 0.29\n",
      "Episode 7\tScore: 0.00\n",
      "Episode 8\tAverage Score: 0.25\n",
      "Episode 8\tScore: 0.00\n",
      "Episode 9\tAverage Score: 0.22\n",
      "Episode 9\tScore: 0.00\n",
      "Episode 10\tAverage Score: 0.40\n",
      "Episode 10\tScore: 2.00\n"
     ]
    }
   ],
   "source": [
    "# Test for PER\n",
    "PER_flag = True\n",
    "Dueling_flag = False\n",
    "Noisy_flag = False\n",
    "save_test_results(PER_flag, Dueling_flag, Noisy_flag)"
   ]
  },
  {
   "cell_type": "code",
   "execution_count": 16,
   "metadata": {},
   "outputs": [
    {
     "name": "stderr",
     "output_type": "stream",
     "text": [
      "E0619 05:30:30.736787000 8639927808 fork_posix.cc:76]                  Other threads are currently calling into gRPC, skipping fork() handlers\n"
     ]
    },
    {
     "name": "stdout",
     "output_type": "stream",
     "text": [
      "[UnityMemory] Configuration Parameters - Can be set up in boot.config\n",
      "    \"memorysetup-bucket-allocator-granularity=16\"\n",
      "    \"memorysetup-bucket-allocator-bucket-count=8\"\n",
      "    \"memorysetup-bucket-allocator-block-size=4194304\"\n",
      "    \"memorysetup-bucket-allocator-block-count=1\"\n",
      "    \"memorysetup-main-allocator-block-size=16777216\"\n",
      "    \"memorysetup-thread-allocator-block-size=16777216\"\n",
      "    \"memorysetup-gfx-main-allocator-block-size=16777216\"\n",
      "    \"memorysetup-gfx-thread-allocator-block-size=16777216\"\n",
      "    \"memorysetup-cache-allocator-block-size=4194304\"\n",
      "    \"memorysetup-typetree-allocator-block-size=2097152\"\n",
      "    \"memorysetup-profiler-bucket-allocator-granularity=16\"\n",
      "    \"memorysetup-profiler-bucket-allocator-bucket-count=8\"\n",
      "    \"memorysetup-profiler-bucket-allocator-block-size=4194304\"\n",
      "    \"memorysetup-profiler-bucket-allocator-block-count=1\"\n",
      "    \"memorysetup-profiler-allocator-block-size=16777216\"\n",
      "    \"memorysetup-profiler-editor-allocator-block-size=1048576\"\n",
      "    \"memorysetup-temp-allocator-size-main=4194304\"\n",
      "    \"memorysetup-job-temp-allocator-block-size=2097152\"\n",
      "    \"memorysetup-job-temp-allocator-block-size-background=1048576\"\n",
      "    \"memorysetup-job-temp-allocator-reduction-small-platforms=262144\"\n",
      "    \"memorysetup-temp-allocator-size-background-worker=32768\"\n",
      "    \"memorysetup-temp-allocator-size-job-worker=262144\"\n",
      "    \"memorysetup-temp-allocator-size-preload-manager=262144\"\n",
      "    \"memorysetup-temp-allocator-size-nav-mesh-worker=65536\"\n",
      "    \"memorysetup-temp-allocator-size-audio-worker=65536\"\n",
      "    \"memorysetup-temp-allocator-size-cloud-worker=32768\"\n",
      "    \"memorysetup-temp-allocator-size-gfx=262144\"\n"
     ]
    }
   ],
   "source": [
    "env, brain, brain_name, actions, action_size, state_size = reload_env()"
   ]
  },
  {
   "cell_type": "code",
   "execution_count": 17,
   "metadata": {},
   "outputs": [
    {
     "name": "stdout",
     "output_type": "stream",
     "text": [
      "Episode 1\tAverage Score: 0.00\n",
      "Episode 1\tScore: 0.00\n",
      "Episode 2\tAverage Score: 0.00\n",
      "Episode 2\tScore: 0.00\n",
      "Episode 3\tAverage Score: 0.33\n",
      "Episode 3\tScore: 1.00\n",
      "Episode 4\tAverage Score: 0.50\n",
      "Episode 4\tScore: 1.00\n",
      "Episode 5\tAverage Score: 0.40\n",
      "Episode 5\tScore: 0.00\n",
      "Episode 6\tAverage Score: 0.33\n",
      "Episode 6\tScore: 0.00\n",
      "Episode 7\tAverage Score: 0.29\n",
      "Episode 7\tScore: 0.00\n",
      "Episode 8\tAverage Score: 0.25\n",
      "Episode 8\tScore: 0.00\n",
      "Episode 9\tAverage Score: 0.33\n",
      "Episode 9\tScore: 1.00\n",
      "Episode 10\tAverage Score: 0.60\n",
      "Episode 10\tScore: 3.00\n"
     ]
    }
   ],
   "source": [
    "# Teset for Noisy Net\n",
    "PER_flag = False\n",
    "Dueling_flag = False\n",
    "Noisy_flag = True\n",
    "save_test_results(PER_flag, Dueling_flag, Noisy_flag)"
   ]
  },
  {
   "cell_type": "code",
   "execution_count": 18,
   "metadata": {},
   "outputs": [
    {
     "name": "stderr",
     "output_type": "stream",
     "text": [
      "E0619 05:32:14.984924000 8639927808 fork_posix.cc:76]                  Other threads are currently calling into gRPC, skipping fork() handlers\n"
     ]
    },
    {
     "name": "stdout",
     "output_type": "stream",
     "text": [
      "[UnityMemory] Configuration Parameters - Can be set up in boot.config\n",
      "    \"memorysetup-bucket-allocator-granularity=16\"\n",
      "    \"memorysetup-bucket-allocator-bucket-count=8\"\n",
      "    \"memorysetup-bucket-allocator-block-size=4194304\"\n",
      "    \"memorysetup-bucket-allocator-block-count=1\"\n",
      "    \"memorysetup-main-allocator-block-size=16777216\"\n",
      "    \"memorysetup-thread-allocator-block-size=16777216\"\n",
      "    \"memorysetup-gfx-main-allocator-block-size=16777216\"\n",
      "    \"memorysetup-gfx-thread-allocator-block-size=16777216\"\n",
      "    \"memorysetup-cache-allocator-block-size=4194304\"\n",
      "    \"memorysetup-typetree-allocator-block-size=2097152\"\n",
      "    \"memorysetup-profiler-bucket-allocator-granularity=16\"\n",
      "    \"memorysetup-profiler-bucket-allocator-bucket-count=8\"\n",
      "    \"memorysetup-profiler-bucket-allocator-block-size=4194304\"\n",
      "    \"memorysetup-profiler-bucket-allocator-block-count=1\"\n",
      "    \"memorysetup-profiler-allocator-block-size=16777216\"\n",
      "    \"memorysetup-profiler-editor-allocator-block-size=1048576\"\n",
      "    \"memorysetup-temp-allocator-size-main=4194304\"\n",
      "    \"memorysetup-job-temp-allocator-block-size=2097152\"\n",
      "    \"memorysetup-job-temp-allocator-block-size-background=1048576\"\n",
      "    \"memorysetup-job-temp-allocator-reduction-small-platforms=262144\"\n",
      "    \"memorysetup-temp-allocator-size-background-worker=32768\"\n",
      "    \"memorysetup-temp-allocator-size-job-worker=262144\"\n",
      "    \"memorysetup-temp-allocator-size-preload-manager=262144\"\n",
      "    \"memorysetup-temp-allocator-size-nav-mesh-worker=65536\"\n",
      "    \"memorysetup-temp-allocator-size-audio-worker=65536\"\n",
      "    \"memorysetup-temp-allocator-size-cloud-worker=32768\"\n",
      "    \"memorysetup-temp-allocator-size-gfx=262144\"\n"
     ]
    }
   ],
   "source": [
    "env, brain, brain_name, actions, action_size, state_size = reload_env()"
   ]
  },
  {
   "cell_type": "code",
   "execution_count": 19,
   "metadata": {},
   "outputs": [
    {
     "name": "stdout",
     "output_type": "stream",
     "text": [
      "Episode 1\tAverage Score: 0.00\n",
      "Episode 1\tScore: 0.00\n",
      "Episode 2\tAverage Score: 0.00\n",
      "Episode 2\tScore: 0.00\n",
      "Episode 3\tAverage Score: 0.33\n",
      "Episode 3\tScore: 1.00\n",
      "Episode 4\tAverage Score: 0.50\n",
      "Episode 4\tScore: 1.00\n",
      "Episode 5\tAverage Score: 0.60\n",
      "Episode 5\tScore: 1.00\n",
      "Episode 6\tAverage Score: 0.50\n",
      "Episode 6\tScore: 0.00\n",
      "Episode 7\tAverage Score: 0.43\n",
      "Episode 7\tScore: 0.00\n",
      "Episode 8\tAverage Score: 0.38\n",
      "Episode 8\tScore: 0.00\n",
      "Episode 9\tAverage Score: 0.33\n",
      "Episode 9\tScore: 0.00\n",
      "Episode 10\tAverage Score: 0.40\n",
      "Episode 10\tScore: 1.00\n"
     ]
    }
   ],
   "source": [
    "# Teset for Dueling\n",
    "PER_flag = False\n",
    "Dueling_flag = True\n",
    "Noisy_flag = False\n",
    "save_test_results(PER_flag, Dueling_flag, Noisy_flag)"
   ]
  },
  {
   "cell_type": "code",
   "execution_count": 20,
   "metadata": {},
   "outputs": [
    {
     "name": "stderr",
     "output_type": "stream",
     "text": [
      "E0619 05:33:59.237545000 8639927808 fork_posix.cc:76]                  Other threads are currently calling into gRPC, skipping fork() handlers\n"
     ]
    },
    {
     "name": "stdout",
     "output_type": "stream",
     "text": [
      "[UnityMemory] Configuration Parameters - Can be set up in boot.config\n",
      "    \"memorysetup-bucket-allocator-granularity=16\"\n",
      "    \"memorysetup-bucket-allocator-bucket-count=8\"\n",
      "    \"memorysetup-bucket-allocator-block-size=4194304\"\n",
      "    \"memorysetup-bucket-allocator-block-count=1\"\n",
      "    \"memorysetup-main-allocator-block-size=16777216\"\n",
      "    \"memorysetup-thread-allocator-block-size=16777216\"\n",
      "    \"memorysetup-gfx-main-allocator-block-size=16777216\"\n",
      "    \"memorysetup-gfx-thread-allocator-block-size=16777216\"\n",
      "    \"memorysetup-cache-allocator-block-size=4194304\"\n",
      "    \"memorysetup-typetree-allocator-block-size=2097152\"\n",
      "    \"memorysetup-profiler-bucket-allocator-granularity=16\"\n",
      "    \"memorysetup-profiler-bucket-allocator-bucket-count=8\"\n",
      "    \"memorysetup-profiler-bucket-allocator-block-size=4194304\"\n",
      "    \"memorysetup-profiler-bucket-allocator-block-count=1\"\n",
      "    \"memorysetup-profiler-allocator-block-size=16777216\"\n",
      "    \"memorysetup-profiler-editor-allocator-block-size=1048576\"\n",
      "    \"memorysetup-temp-allocator-size-main=4194304\"\n",
      "    \"memorysetup-job-temp-allocator-block-size=2097152\"\n",
      "    \"memorysetup-job-temp-allocator-block-size-background=1048576\"\n",
      "    \"memorysetup-job-temp-allocator-reduction-small-platforms=262144\"\n",
      "    \"memorysetup-temp-allocator-size-background-worker=32768\"\n",
      "    \"memorysetup-temp-allocator-size-job-worker=262144\"\n",
      "    \"memorysetup-temp-allocator-size-preload-manager=262144\"\n",
      "    \"memorysetup-temp-allocator-size-nav-mesh-worker=65536\"\n",
      "    \"memorysetup-temp-allocator-size-audio-worker=65536\"\n",
      "    \"memorysetup-temp-allocator-size-cloud-worker=32768\"\n",
      "    \"memorysetup-temp-allocator-size-gfx=262144\"\n"
     ]
    }
   ],
   "source": [
    "env, brain, brain_name, actions, action_size, state_size = reload_env()"
   ]
  },
  {
   "cell_type": "code",
   "execution_count": 21,
   "metadata": {},
   "outputs": [
    {
     "name": "stdout",
     "output_type": "stream",
     "text": [
      "Episode 1\tAverage Score: 0.00\n",
      "Episode 1\tScore: 0.00\n",
      "Episode 2\tAverage Score: 0.00\n",
      "Episode 2\tScore: 0.00\n",
      "Episode 3\tAverage Score: 0.33\n",
      "Episode 3\tScore: 1.00\n",
      "Episode 4\tAverage Score: 0.50\n",
      "Episode 4\tScore: 1.00\n",
      "Episode 5\tAverage Score: 0.60\n",
      "Episode 5\tScore: 1.00\n",
      "Episode 6\tAverage Score: 0.50\n",
      "Episode 6\tScore: 0.00\n",
      "Episode 7\tAverage Score: 0.43\n",
      "Episode 7\tScore: 0.00\n",
      "Episode 8\tAverage Score: 0.38\n",
      "Episode 8\tScore: 0.00\n",
      "Episode 9\tAverage Score: 0.33\n",
      "Episode 9\tScore: 0.00\n",
      "Episode 10\tAverage Score: 0.50\n",
      "Episode 10\tScore: 2.00\n"
     ]
    }
   ],
   "source": [
    "# Teset for Dueling with Noisy-Net\n",
    "PER_flag = False\n",
    "Dueling_flag = True\n",
    "Noisy_flag = True\n",
    "save_test_results(PER_flag, Dueling_flag, Noisy_flag)"
   ]
  },
  {
   "cell_type": "code",
   "execution_count": 22,
   "metadata": {},
   "outputs": [
    {
     "name": "stderr",
     "output_type": "stream",
     "text": [
      "E0619 05:35:43.643818000 8639927808 fork_posix.cc:76]                  Other threads are currently calling into gRPC, skipping fork() handlers\n"
     ]
    },
    {
     "name": "stdout",
     "output_type": "stream",
     "text": [
      "[UnityMemory] Configuration Parameters - Can be set up in boot.config\n",
      "    \"memorysetup-bucket-allocator-granularity=16\"\n",
      "    \"memorysetup-bucket-allocator-bucket-count=8\"\n",
      "    \"memorysetup-bucket-allocator-block-size=4194304\"\n",
      "    \"memorysetup-bucket-allocator-block-count=1\"\n",
      "    \"memorysetup-main-allocator-block-size=16777216\"\n",
      "    \"memorysetup-thread-allocator-block-size=16777216\"\n",
      "    \"memorysetup-gfx-main-allocator-block-size=16777216\"\n",
      "    \"memorysetup-gfx-thread-allocator-block-size=16777216\"\n",
      "    \"memorysetup-cache-allocator-block-size=4194304\"\n",
      "    \"memorysetup-typetree-allocator-block-size=2097152\"\n",
      "    \"memorysetup-profiler-bucket-allocator-granularity=16\"\n",
      "    \"memorysetup-profiler-bucket-allocator-bucket-count=8\"\n",
      "    \"memorysetup-profiler-bucket-allocator-block-size=4194304\"\n",
      "    \"memorysetup-profiler-bucket-allocator-block-count=1\"\n",
      "    \"memorysetup-profiler-allocator-block-size=16777216\"\n",
      "    \"memorysetup-profiler-editor-allocator-block-size=1048576\"\n",
      "    \"memorysetup-temp-allocator-size-main=4194304\"\n",
      "    \"memorysetup-job-temp-allocator-block-size=2097152\"\n",
      "    \"memorysetup-job-temp-allocator-block-size-background=1048576\"\n",
      "    \"memorysetup-job-temp-allocator-reduction-small-platforms=262144\"\n",
      "    \"memorysetup-temp-allocator-size-background-worker=32768\"\n",
      "    \"memorysetup-temp-allocator-size-job-worker=262144\"\n",
      "    \"memorysetup-temp-allocator-size-preload-manager=262144\"\n",
      "    \"memorysetup-temp-allocator-size-nav-mesh-worker=65536\"\n",
      "    \"memorysetup-temp-allocator-size-audio-worker=65536\"\n",
      "    \"memorysetup-temp-allocator-size-cloud-worker=32768\"\n",
      "    \"memorysetup-temp-allocator-size-gfx=262144\"\n"
     ]
    }
   ],
   "source": [
    "env, brain, brain_name, actions, action_size, state_size = reload_env()"
   ]
  },
  {
   "cell_type": "code",
   "execution_count": 23,
   "metadata": {},
   "outputs": [
    {
     "name": "stdout",
     "output_type": "stream",
     "text": [
      "Episode 1\tAverage Score: 0.00\n",
      "Episode 1\tScore: 0.00\n",
      "Episode 2\tAverage Score: 0.00\n",
      "Episode 2\tScore: 0.00\n",
      "Episode 3\tAverage Score: 0.33\n",
      "Episode 3\tScore: 1.00\n",
      "Episode 4\tAverage Score: 0.50\n",
      "Episode 4\tScore: 1.00\n",
      "Episode 5\tAverage Score: 0.60\n",
      "Episode 5\tScore: 1.00\n",
      "Episode 6\tAverage Score: 0.50\n",
      "Episode 6\tScore: 0.00\n",
      "Episode 7\tAverage Score: 0.43\n",
      "Episode 7\tScore: 0.00\n",
      "Episode 8\tAverage Score: 0.12\n",
      "Episode 8\tScore: -2.00\n",
      "Episode 9\tAverage Score: 0.11\n",
      "Episode 9\tScore: 0.00\n",
      "Episode 10\tAverage Score: 0.30\n",
      "Episode 10\tScore: 2.00\n"
     ]
    }
   ],
   "source": [
    "# Teset for Noisy-Net with PER\n",
    "PER_flag = True\n",
    "Dueling_flag = False\n",
    "Noisy_flag = True\n",
    "save_test_results(PER_flag, Dueling_flag, Noisy_flag)"
   ]
  },
  {
   "cell_type": "code",
   "execution_count": 24,
   "metadata": {},
   "outputs": [
    {
     "name": "stderr",
     "output_type": "stream",
     "text": [
      "E0619 05:37:29.541504000 8639927808 fork_posix.cc:76]                  Other threads are currently calling into gRPC, skipping fork() handlers\n"
     ]
    },
    {
     "name": "stdout",
     "output_type": "stream",
     "text": [
      "[UnityMemory] Configuration Parameters - Can be set up in boot.config\n",
      "    \"memorysetup-bucket-allocator-granularity=16\"\n",
      "    \"memorysetup-bucket-allocator-bucket-count=8\"\n",
      "    \"memorysetup-bucket-allocator-block-size=4194304\"\n",
      "    \"memorysetup-bucket-allocator-block-count=1\"\n",
      "    \"memorysetup-main-allocator-block-size=16777216\"\n",
      "    \"memorysetup-thread-allocator-block-size=16777216\"\n",
      "    \"memorysetup-gfx-main-allocator-block-size=16777216\"\n",
      "    \"memorysetup-gfx-thread-allocator-block-size=16777216\"\n",
      "    \"memorysetup-cache-allocator-block-size=4194304\"\n",
      "    \"memorysetup-typetree-allocator-block-size=2097152\"\n",
      "    \"memorysetup-profiler-bucket-allocator-granularity=16\"\n",
      "    \"memorysetup-profiler-bucket-allocator-bucket-count=8\"\n",
      "    \"memorysetup-profiler-bucket-allocator-block-size=4194304\"\n",
      "    \"memorysetup-profiler-bucket-allocator-block-count=1\"\n",
      "    \"memorysetup-profiler-allocator-block-size=16777216\"\n",
      "    \"memorysetup-profiler-editor-allocator-block-size=1048576\"\n",
      "    \"memorysetup-temp-allocator-size-main=4194304\"\n",
      "    \"memorysetup-job-temp-allocator-block-size=2097152\"\n",
      "    \"memorysetup-job-temp-allocator-block-size-background=1048576\"\n",
      "    \"memorysetup-job-temp-allocator-reduction-small-platforms=262144\"\n",
      "    \"memorysetup-temp-allocator-size-background-worker=32768\"\n",
      "    \"memorysetup-temp-allocator-size-job-worker=262144\"\n",
      "    \"memorysetup-temp-allocator-size-preload-manager=262144\"\n",
      "    \"memorysetup-temp-allocator-size-nav-mesh-worker=65536\"\n",
      "    \"memorysetup-temp-allocator-size-audio-worker=65536\"\n",
      "    \"memorysetup-temp-allocator-size-cloud-worker=32768\"\n",
      "    \"memorysetup-temp-allocator-size-gfx=262144\"\n"
     ]
    }
   ],
   "source": [
    "env, brain, brain_name, actions, action_size, state_size = reload_env()"
   ]
  },
  {
   "cell_type": "code",
   "execution_count": 25,
   "metadata": {},
   "outputs": [
    {
     "name": "stdout",
     "output_type": "stream",
     "text": [
      "Episode 1\tAverage Score: 0.00\n",
      "Episode 1\tScore: 0.00\n",
      "Episode 2\tAverage Score: 0.00\n",
      "Episode 2\tScore: 0.00\n",
      "Episode 3\tAverage Score: 0.33\n",
      "Episode 3\tScore: 1.00\n",
      "Episode 4\tAverage Score: 0.50\n",
      "Episode 4\tScore: 1.00\n",
      "Episode 5\tAverage Score: 0.60\n",
      "Episode 5\tScore: 1.00\n",
      "Episode 6\tAverage Score: 0.50\n",
      "Episode 6\tScore: 0.00\n",
      "Episode 7\tAverage Score: 0.43\n",
      "Episode 7\tScore: 0.00\n",
      "Episode 8\tAverage Score: 0.38\n",
      "Episode 8\tScore: 0.00\n",
      "Episode 9\tAverage Score: 0.33\n",
      "Episode 9\tScore: 0.00\n",
      "Episode 10\tAverage Score: 0.40\n",
      "Episode 10\tScore: 1.00\n"
     ]
    }
   ],
   "source": [
    "# Teset for Dueling with PER\n",
    "PER_flag = True\n",
    "Dueling_flag = True\n",
    "Noisy_flag = False\n",
    "save_test_results(PER_flag, Dueling_flag, Noisy_flag)"
   ]
  },
  {
   "cell_type": "code",
   "execution_count": 27,
   "metadata": {},
   "outputs": [],
   "source": [
    "# compute the CIs for lineplots\n",
    "for i in range(len(test_results)):\n",
    "    ci = 1.96 * np.std(test_results[i])/np.sqrt(len(test_results[i]))\n",
    "    CI_saved.append(ci)"
   ]
  },
  {
   "cell_type": "markdown",
   "metadata": {},
   "source": [
    "####  Plot test performance"
   ]
  },
  {
   "cell_type": "code",
   "execution_count": 29,
   "metadata": {},
   "outputs": [
    {
     "data": {
      "image/png": "[encoded data removed]",
      "text/plain": [
       "<Figure size 432x288 with 1 Axes>"
      ]
     },
     "metadata": {},
     "output_type": "display_data"
    }
   ],
   "source": [
    "with plt.style.context('seaborn-whitegrid'):\n",
    "    fig, ax = plt.subplots()\n",
    "    ax.plot(range(1,11), test_results[0], label='Mix-All')\n",
    "    ax.fill_between(range(1,11), (test_results[0]-CI_saved[0]), (test_results[0]+CI_saved[0]), color='b', alpha=.03)\n",
    "    ax.plot(range(1,11), test_results[1], label='DQN-vanilla')\n",
    "    ax.fill_between(range(1,11), (test_results[1]-CI_saved[1]), (test_results[1]+CI_saved[1]), color='b', alpha=.03)\n",
    "    ax.plot(range(1,11), test_results[2], label='PER')\n",
    "    ax.fill_between(range(1,11), (test_results[2]-CI_saved[2]), (test_results[2]+CI_saved[2]), color='b', alpha=.03)\n",
    "    ax.plot(range(1,11), test_results[3], label='Noisy Net')\n",
    "    ax.fill_between(range(1,11), (test_results[3]-CI_saved[3]), (test_results[3]+CI_saved[3]), color='b', alpha=.03)\n",
    "    ax.plot(range(1,11), test_results[4], label='Dueling')\n",
    "    ax.fill_between(range(1,11), (test_results[4]-CI_saved[4]), (test_results[4]+CI_saved[4]), color='b', alpha=.03)\n",
    "    ax.plot(range(1,11), test_results[5], label='Dueling+Noisy Net')\n",
    "    ax.fill_between(range(1,11), (test_results[5]-CI_saved[5]), (test_results[5]+CI_saved[5]), color='b', alpha=.03)\n",
    "    ax.plot(range(1,11), test_results[6], label='PER+Noisy Net')\n",
    "    ax.fill_between(range(1,11), (test_results[6]-CI_saved[6]), (test_results[6]+CI_saved[6]), color='b', alpha=.03)\n",
    "    ax.plot(range(1,11), test_results[7], label='Dueling+PER')\n",
    "    ax.fill_between(range(1,11), (test_results[7]-CI_saved[7]), (test_results[7]+CI_saved[7]), color='b', alpha=.03)\n",
    "    ax.set_xlabel('Episode')\n",
    "    ax.set_ylabel('Average return per pisode')\n",
    "    ax.xaxis.set_major_locator(MaxNLocator(integer=True))\n",
    "    ax.set_title('Average return per episode with 95% CI')\n",
    "    ax.legend(bbox_to_anchor=(1.02, 1), loc='upper left')\n",
    "\n",
    "plt.savefig(\"test_results.png\", dpi=180, bbox_inches='tight')\n",
    "plt.show()\n"
   ]
  }
 ],
 "metadata": {
  "kernelspec": {
   "display_name": "Python 3 (ipykernel)",
   "language": "python",
   "name": "python3"
  },
  "language_info": {
   "codemirror_mode": {
    "name": "ipython",
    "version": 3
   },
   "file_extension": ".py",
   "mimetype": "text/x-python",
   "name": "python",
   "nbconvert_exporter": "python",
   "pygments_lexer": "ipython3",
   "version": "3.9.12"
  }
 },
 "nbformat": 4,
 "nbformat_minor": 4
}
