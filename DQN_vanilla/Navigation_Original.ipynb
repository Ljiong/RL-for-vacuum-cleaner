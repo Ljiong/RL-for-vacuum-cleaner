{
 "cells": [
  {
   "cell_type": "markdown",
   "metadata": {},
   "source": [
    "# Navigation\n",
    "---\n"
   ]
  },
  {
   "cell_type": "code",
   "execution_count": 1,
   "metadata": {},
   "outputs": [],
   "source": [
    "from mlagents_envs.environment import UnityEnvironment as UE\n",
    "import numpy as np\n",
    "import torch\n",
    "import random\n",
    "from collections import deque\n",
    "from dqn_agent_Original import Agent\n",
    "import os\n",
    "import matplotlib.pyplot as plt\n",
    "%matplotlib inline"
   ]
  },
  {
   "cell_type": "code",
   "execution_count": 2,
   "metadata": {},
   "outputs": [],
   "source": [
    "ENV_PATH = \"../environment-MAC/en.app\""
   ]
  },
  {
   "cell_type": "markdown",
   "metadata": {},
   "source": [
    "### 1. Initialise customised Banana Collecter environment"
   ]
  },
  {
   "cell_type": "markdown",
   "metadata": {},
   "source": [
    "Environments contain **_brains_** which are responsible for deciding the actions of their associated agents. Here we check for the first brain available, and set it as the default brain we will be controlling from Python."
   ]
  },
  {
   "cell_type": "code",
   "execution_count": 3,
   "metadata": {},
   "outputs": [],
   "source": [
    "def initialise_env(ENV_PATH):\n",
    "    # env = UnityEnvironment(file_name=ENV_PATH)\n",
    "    env = UE(base_port=5004,file_name=ENV_PATH, seed=1, side_channels=[])\n",
    "    env.step()\n",
    "    # in this project, we are only using one agent, so we will only work on the first `brain` in the environmet\n",
    "    # get the default brain\n",
    "    # brain_name = env.brain_names[0]\n",
    "    brain_name = list(env.behavior_specs.keys())[0]\n",
    "    # brain = env.brains[brain_name]\n",
    "    brain = env.behavior_specs[brain_name]\n",
    "    return env, brain, brain_name"
   ]
  },
  {
   "cell_type": "code",
   "execution_count": 4,
   "metadata": {},
   "outputs": [
    {
     "name": "stderr",
     "output_type": "stream",
     "text": [
      "E0621 11:12:35.206811000 8602516992 fork_posix.cc:76]                  Other threads are currently calling into gRPC, skipping fork() handlers\n"
     ]
    },
    {
     "name": "stdout",
     "output_type": "stream",
     "text": [
      "[UnityMemory] Configuration Parameters - Can be set up in boot.config\n",
      "    \"memorysetup-bucket-allocator-granularity=16\"\n",
      "    \"memorysetup-bucket-allocator-bucket-count=8\"\n",
      "    \"memorysetup-bucket-allocator-block-size=4194304\"\n",
      "    \"memorysetup-bucket-allocator-block-count=1\"\n",
      "    \"memorysetup-main-allocator-block-size=16777216\"\n",
      "    \"memorysetup-thread-allocator-block-size=16777216\"\n",
      "    \"memorysetup-gfx-main-allocator-block-size=16777216\"\n",
      "    \"memorysetup-gfx-thread-allocator-block-size=16777216\"\n",
      "    \"memorysetup-cache-allocator-block-size=4194304\"\n",
      "    \"memorysetup-typetree-allocator-block-size=2097152\"\n",
      "    \"memorysetup-profiler-bucket-allocator-granularity=16\"\n",
      "    \"memorysetup-profiler-bucket-allocator-bucket-count=8\"\n",
      "    \"memorysetup-profiler-bucket-allocator-block-size=4194304\"\n",
      "    \"memorysetup-profiler-bucket-allocator-block-count=1\"\n",
      "    \"memorysetup-profiler-allocator-block-size=16777216\"\n",
      "    \"memorysetup-profiler-editor-allocator-block-size=1048576\"\n",
      "    \"memorysetup-temp-allocator-size-main=4194304\"\n",
      "    \"memorysetup-job-temp-allocator-block-size=2097152\"\n",
      "    \"memorysetup-job-temp-allocator-block-size-background=1048576\"\n",
      "    \"memorysetup-job-temp-allocator-reduction-small-platforms=262144\"\n",
      "    \"memorysetup-temp-allocator-size-background-worker=32768\"\n",
      "    \"memorysetup-temp-allocator-size-job-worker=262144\"\n",
      "    \"memorysetup-temp-allocator-size-preload-manager=262144\"\n",
      "    \"memorysetup-temp-allocator-size-nav-mesh-worker=65536\"\n",
      "    \"memorysetup-temp-allocator-size-audio-worker=65536\"\n",
      "    \"memorysetup-temp-allocator-size-cloud-worker=32768\"\n",
      "    \"memorysetup-temp-allocator-size-gfx=262144\"\n"
     ]
    }
   ],
   "source": [
    "env, brain, brain_name = initialise_env(ENV_PATH)"
   ]
  },
  {
   "cell_type": "markdown",
   "metadata": {},
   "source": [
    "### State and Action Spaces\n",
    "\n",
    "The simulation contains a single agent that navigates a large environment.  At each time step, it has four actions at its disposal:\n",
    "- `0` - walk forward \n",
    "- `1` - walk backward\n",
    "- `2` - turn left\n",
    "- `3` - turn right\n",
    "\n",
    "The state space has `37` dimensions and contains the agent's velocity, along with ray-based perception of objects around agent's forward direction.  A reward of `+1` is provided for collecting a yellow banana, and a reward of `-1` is provided for collecting a blue banana. \n",
    "\n"
   ]
  },
  {
   "cell_type": "markdown",
   "metadata": {},
   "source": [
    "### 2. Initialise the agent"
   ]
  },
  {
   "cell_type": "code",
   "execution_count": 5,
   "metadata": {},
   "outputs": [],
   "source": [
    "spec = env.behavior_specs['My Behavior?team=0']\n",
    "# print(spec)"
   ]
  },
  {
   "cell_type": "code",
   "execution_count": 6,
   "metadata": {},
   "outputs": [],
   "source": [
    "action_size = list(brain.action_spec)[1][0]"
   ]
  },
  {
   "cell_type": "code",
   "execution_count": 7,
   "metadata": {},
   "outputs": [],
   "source": [
    "state_size = len(brain.observation_specs)"
   ]
  },
  {
   "cell_type": "code",
   "execution_count": 8,
   "metadata": {},
   "outputs": [
    {
     "data": {
      "text/plain": [
       "[ObservationSpec(shape=(265,), dimension_property=(<DimensionProperty.NONE: 1>,), observation_type=<ObservationType.DEFAULT: 0>, name='RayPerceptionSensor'),\n",
       " ObservationSpec(shape=(245,), dimension_property=(<DimensionProperty.NONE: 1>,), observation_type=<ObservationType.DEFAULT: 0>, name='RayPerceptionSensor-3'),\n",
       " ObservationSpec(shape=(0,), dimension_property=(<DimensionProperty.NONE: 1>,), observation_type=<ObservationType.DEFAULT: 0>, name='VectorSensor'),\n",
       " ObservationSpec(shape=(4,), dimension_property=(<DimensionProperty.NONE: 1>,), observation_type=<ObservationType.DEFAULT: 0>, name='VectorSensor_size4')]"
      ]
     },
     "execution_count": 8,
     "metadata": {},
     "output_type": "execute_result"
    }
   ],
   "source": [
    "brain.observation_specs"
   ]
  },
  {
   "cell_type": "code",
   "execution_count": 9,
   "metadata": {},
   "outputs": [],
   "source": [
    "agent = Agent(state_size=state_size, action_size=action_size, seed=0)"
   ]
  },
  {
   "cell_type": "code",
   "execution_count": 10,
   "metadata": {},
   "outputs": [],
   "source": [
    "actions = []\n",
    "for act in range(5):\n",
    "    actions.append(spec.action_spec.empty_action(1))\n",
    "    actions[act].add_discrete(np.int32([[act]]))"
   ]
  },
  {
   "cell_type": "markdown",
   "metadata": {},
   "source": [
    "### 3. Train agent"
   ]
  },
  {
   "cell_type": "code",
   "execution_count": 11,
   "metadata": {},
   "outputs": [],
   "source": [
    "def train_dqn(agent, n_episodes=2, max_t=500, eps_start=1.0, eps_end=0.1, eps_decay=0.98):\n",
    "    \"\"\"Deep Q-Learning.\n",
    "    \n",
    "    Params\n",
    "    ======\n",
    "        n_episodes (int): maximum number of training episodes\n",
    "        max_t (int): maximum number of timesteps per episode\n",
    "        eps_start (float): starting value of epsilon, for epsilon-greedy action selection\n",
    "        eps_end (float): minimum value of epsilon\n",
    "        eps_decay (float): multiplicative factor (per episode) for decreasing epsilon\n",
    "    \"\"\"\n",
    "    average_scores = []\n",
    "    scores = []                        # list containing scores from each episode\n",
    "    scores_window = deque(maxlen=100)  # last 100 scores\n",
    "    eps = eps_start                    # initialize epsilon\n",
    "#     rewards =0\n",
    "    for i_episode in range(1, n_episodes+1):\n",
    "        # every episode we reset the environment to start state\n",
    "        env.reset()\n",
    "#         print(\"~~~~~~~~~~~~~~~~~~~~\")\n",
    "        decision_steps, terminal_steps = env.get_steps(brain_name)\n",
    "        ray_sensor_1 = decision_steps.obs[0]\n",
    "        ray_sensor_2 = decision_steps.obs[1]\n",
    "        state = np.concatenate((ray_sensor_1, ray_sensor_2), axis=1)\n",
    "        \n",
    "        tracked_agent = -1\n",
    "        done = False\n",
    "        score = 0\n",
    "        for t in range(max_t):\n",
    "            reward = 0\n",
    "            if tracked_agent == -1 and len(decision_steps) >= 1:\n",
    "                tracked_agent = decision_steps.agent_id[0]\n",
    "            action = agent.act(state, eps)\n",
    "            env.set_actions(brain_name, actions[action])\n",
    "            env.step()\n",
    "            \n",
    "            decision_steps, terminal_steps = env.get_steps(brain_name)\n",
    "            if len(decision_steps.obs[0]) != 1:\n",
    "                env.reset()\n",
    "            else: \n",
    "                ray_sensor_1 = decision_steps.obs[0]\n",
    "                \n",
    "            if len(decision_steps.obs[1]) != 1:\n",
    "                env.reset()\n",
    "            else: \n",
    "                ray_sensor_2 = decision_steps.obs[1]\n",
    "                \n",
    "            if len(decision_steps.obs[3]) == 0:\n",
    "                env.reset()\n",
    "            else: \n",
    "                battery = decision_steps.obs[3][0][0]\n",
    "\n",
    "            next_state = np.concatenate((ray_sensor_1, ray_sensor_2), axis=1)\n",
    "            \n",
    "            if battery == 0: # if the battery use up, give a penalty\n",
    "                reward = -2\n",
    "            else:\n",
    "                reward = 0\n",
    "\n",
    "            if tracked_agent in decision_steps:# The agent requested a decision\n",
    "                reward += decision_steps[tracked_agent].reward  # get the reward\n",
    "                agent.step(state, action, reward, next_state, False)\n",
    "            if tracked_agent in terminal_steps: # The agent terminated its episode\n",
    "                reward += terminal_steps[tracked_agent].reward# get the reward\n",
    "                agent.step(state, action, reward, next_state, True)\n",
    "                break\n",
    "                \n",
    "            state = next_state\n",
    "            score += reward\n",
    "            \n",
    "        \n",
    "        scores_window.append(score)       # save most recent score\n",
    "#         print(scores_window)\n",
    "        scores.append(score)              # save most recent score\n",
    "        average_scores.append(np.mean(scores))\n",
    "        eps = max(eps_end, eps_decay*eps) # decrease epsilon\n",
    "        print('\\rEpisode {}\\tAverage Score: {:.2f}'.format(i_episode, np.mean(scores)))\n",
    "        print('\\rEpisode {}\\tScore: {:.2f}'.format(i_episode, score))\n",
    "        if i_episode % 50 == 0:\n",
    "            print('\\rEpisode {}\\tAverage Score: {:.2f}'.format(i_episode, np.mean(scores)))\n",
    "            torch.save(agent.qnetwork_local.state_dict(), 'checkpoint.pth')\n",
    "            print('saved temporary learned weight')\n",
    "#         if np.mean(scores_window)>=500.0:\n",
    "#             print('\\nEnvironment solved in {:d} episodes!\\tAverage Score: {:.2f}'.format(i_episode-100, np.mean(scores_window)))\n",
    "#             torch.save(agent.qnetwork_local.state_dict(), 'checkpoint.pth')\n",
    "#             print('agent done training')\n",
    "#             break\n",
    "    return scores, average_scores\n",
    "\n"
   ]
  },
  {
   "cell_type": "code",
   "execution_count": 12,
   "metadata": {},
   "outputs": [
    {
     "name": "stdout",
     "output_type": "stream",
     "text": [
      "Episode 1\tAverage Score: 4.00\n",
      "Episode 1\tScore: 4.00\n",
      "Episode 2\tAverage Score: -2.00\n",
      "Episode 2\tScore: -8.00\n",
      "Episode 3\tAverage Score: 0.00\n",
      "Episode 3\tScore: 4.00\n",
      "Episode 4\tAverage Score: 0.25\n",
      "Episode 4\tScore: 1.00\n",
      "Episode 5\tAverage Score: 0.60\n",
      "Episode 5\tScore: 2.00\n",
      "Episode 6\tAverage Score: 0.83\n",
      "Episode 6\tScore: 2.00\n",
      "Episode 7\tAverage Score: 1.29\n",
      "Episode 7\tScore: 4.00\n",
      "Episode 8\tAverage Score: 1.25\n",
      "Episode 8\tScore: 1.00\n",
      "Episode 9\tAverage Score: 1.78\n",
      "Episode 9\tScore: 6.00\n",
      "Episode 10\tAverage Score: 2.00\n",
      "Episode 10\tScore: 4.00\n",
      "Episode 11\tAverage Score: 1.82\n",
      "Episode 11\tScore: 0.00\n",
      "Episode 12\tAverage Score: 1.75\n",
      "Episode 12\tScore: 1.00\n",
      "Episode 13\tAverage Score: 1.85\n",
      "Episode 13\tScore: 3.00\n",
      "Episode 14\tAverage Score: 1.57\n",
      "Episode 14\tScore: -2.00\n",
      "Episode 15\tAverage Score: 0.60\n",
      "Episode 15\tScore: -13.00\n",
      "Episode 16\tAverage Score: 0.12\n",
      "Episode 16\tScore: -7.00\n",
      "Episode 17\tAverage Score: 0.12\n",
      "Episode 17\tScore: 0.00\n",
      "Episode 18\tAverage Score: -0.06\n",
      "Episode 18\tScore: -3.00\n",
      "Episode 19\tAverage Score: -0.63\n",
      "Episode 19\tScore: -11.00\n",
      "Episode 20\tAverage Score: -0.30\n",
      "Episode 20\tScore: 6.00\n",
      "Episode 21\tAverage Score: -0.14\n",
      "Episode 21\tScore: 3.00\n",
      "Episode 22\tAverage Score: -0.41\n",
      "Episode 22\tScore: -6.00\n",
      "Episode 23\tAverage Score: -0.52\n",
      "Episode 23\tScore: -3.00\n",
      "Episode 24\tAverage Score: -0.38\n",
      "Episode 24\tScore: 3.00\n",
      "Episode 25\tAverage Score: -0.32\n",
      "Episode 25\tScore: 1.00\n",
      "Episode 26\tAverage Score: -0.81\n",
      "Episode 26\tScore: -13.00\n",
      "Episode 27\tAverage Score: -1.00\n",
      "Episode 27\tScore: -6.00\n",
      "Episode 28\tAverage Score: -0.86\n",
      "Episode 28\tScore: 3.00\n",
      "Episode 29\tAverage Score: -0.59\n",
      "Episode 29\tScore: 7.00\n",
      "Episode 30\tAverage Score: -0.47\n",
      "Episode 30\tScore: 3.00\n",
      "Episode 31\tAverage Score: -0.52\n",
      "Episode 31\tScore: -2.00\n",
      "Episode 32\tAverage Score: -0.53\n",
      "Episode 32\tScore: -1.00\n",
      "Episode 33\tAverage Score: -0.42\n",
      "Episode 33\tScore: 3.00\n",
      "Episode 34\tAverage Score: -0.44\n",
      "Episode 34\tScore: -1.00\n",
      "Episode 35\tAverage Score: -0.26\n",
      "Episode 35\tScore: 6.00\n",
      "Episode 36\tAverage Score: -0.14\n",
      "Episode 36\tScore: 4.00\n",
      "Episode 37\tAverage Score: -0.32\n",
      "Episode 37\tScore: -7.00\n",
      "Episode 38\tAverage Score: -0.32\n",
      "Episode 38\tScore: 0.00\n",
      "Episode 39\tAverage Score: -0.44\n",
      "Episode 39\tScore: -5.00\n",
      "Episode 40\tAverage Score: -0.40\n",
      "Episode 40\tScore: 1.00\n",
      "Episode 41\tAverage Score: -0.41\n",
      "Episode 41\tScore: -1.00\n",
      "Episode 42\tAverage Score: -0.52\n",
      "Episode 42\tScore: -5.00\n",
      "Episode 43\tAverage Score: -0.60\n",
      "Episode 43\tScore: -4.00\n",
      "Episode 44\tAverage Score: -0.66\n",
      "Episode 44\tScore: -3.00\n",
      "Episode 45\tAverage Score: -0.64\n",
      "Episode 45\tScore: 0.00\n",
      "Episode 46\tAverage Score: -0.57\n",
      "Episode 46\tScore: 3.00\n",
      "Episode 47\tAverage Score: -0.53\n",
      "Episode 47\tScore: 1.00\n",
      "Episode 48\tAverage Score: -0.50\n",
      "Episode 48\tScore: 1.00\n",
      "Episode 49\tAverage Score: -0.39\n",
      "Episode 49\tScore: 5.00\n",
      "Episode 50\tAverage Score: -0.32\n",
      "Episode 50\tScore: 3.00\n",
      "Episode 50\tAverage Score: -0.32\n",
      "saved temporary learned weight\n",
      "Episode 51\tAverage Score: -0.39\n",
      "Episode 51\tScore: -4.00\n",
      "Episode 52\tAverage Score: -0.33\n",
      "Episode 52\tScore: 3.00\n",
      "Episode 53\tAverage Score: -0.32\n",
      "Episode 53\tScore: 0.00\n",
      "Episode 54\tAverage Score: -0.37\n",
      "Episode 54\tScore: -3.00\n",
      "Episode 55\tAverage Score: -0.31\n",
      "Episode 55\tScore: 3.00\n",
      "Episode 56\tAverage Score: -0.27\n",
      "Episode 56\tScore: 2.00\n",
      "Episode 57\tAverage Score: -0.40\n",
      "Episode 57\tScore: -8.00\n",
      "Episode 58\tAverage Score: -0.34\n",
      "Episode 58\tScore: 3.00\n",
      "Episode 59\tAverage Score: -0.39\n",
      "Episode 59\tScore: -3.00\n",
      "Episode 60\tAverage Score: -0.43\n",
      "Episode 60\tScore: -3.00\n",
      "Episode 61\tAverage Score: -0.41\n",
      "Episode 61\tScore: 1.00\n",
      "Episode 62\tAverage Score: -0.50\n",
      "Episode 62\tScore: -6.00\n",
      "Episode 63\tAverage Score: -0.44\n",
      "Episode 63\tScore: 3.00\n",
      "Episode 64\tAverage Score: -0.33\n",
      "Episode 64\tScore: 7.00\n",
      "Episode 65\tAverage Score: -0.45\n",
      "Episode 65\tScore: -8.00\n",
      "Episode 66\tAverage Score: -0.48\n",
      "Episode 66\tScore: -3.00\n",
      "Episode 67\tAverage Score: -0.43\n",
      "Episode 67\tScore: 3.00\n",
      "Episode 68\tAverage Score: -0.49\n",
      "Episode 68\tScore: -4.00\n",
      "Episode 69\tAverage Score: -0.49\n",
      "Episode 69\tScore: -1.00\n",
      "Episode 70\tAverage Score: -0.46\n",
      "Episode 70\tScore: 2.00\n",
      "Episode 71\tAverage Score: -0.44\n",
      "Episode 71\tScore: 1.00\n",
      "Episode 72\tAverage Score: -0.53\n",
      "Episode 72\tScore: -7.00\n",
      "Episode 73\tAverage Score: -0.53\n",
      "Episode 73\tScore: -1.00\n",
      "Episode 74\tAverage Score: -0.58\n",
      "Episode 74\tScore: -4.00\n",
      "Episode 75\tAverage Score: -0.57\n",
      "Episode 75\tScore: 0.00\n",
      "Episode 76\tAverage Score: -0.53\n",
      "Episode 76\tScore: 3.00\n",
      "Episode 77\tAverage Score: -0.56\n",
      "Episode 77\tScore: -3.00\n",
      "Episode 78\tAverage Score: -0.59\n",
      "Episode 78\tScore: -3.00\n",
      "Episode 79\tAverage Score: -0.58\n",
      "Episode 79\tScore: 0.00\n",
      "Episode 80\tAverage Score: -0.53\n",
      "Episode 80\tScore: 4.00\n",
      "Episode 81\tAverage Score: -0.58\n",
      "Episode 81\tScore: -5.00\n",
      "Episode 82\tAverage Score: -0.54\n",
      "Episode 82\tScore: 3.00\n",
      "Episode 83\tAverage Score: -0.48\n",
      "Episode 83\tScore: 4.00\n",
      "Episode 84\tAverage Score: -0.49\n",
      "Episode 84\tScore: -1.00\n",
      "Episode 85\tAverage Score: -0.51\n",
      "Episode 85\tScore: -2.00\n",
      "Episode 86\tAverage Score: -0.52\n",
      "Episode 86\tScore: -2.00\n",
      "Episode 87\tAverage Score: -0.51\n",
      "Episode 87\tScore: 1.00\n",
      "Episode 88\tAverage Score: -0.59\n",
      "Episode 88\tScore: -8.00\n",
      "Episode 89\tAverage Score: -0.55\n",
      "Episode 89\tScore: 3.00\n",
      "Episode 90\tAverage Score: -0.52\n",
      "Episode 90\tScore: 2.00\n",
      "Episode 91\tAverage Score: -0.45\n",
      "Episode 91\tScore: 6.00\n",
      "Episode 92\tAverage Score: -0.42\n",
      "Episode 92\tScore: 2.00\n",
      "Episode 93\tAverage Score: -0.38\n",
      "Episode 93\tScore: 4.00\n",
      "Episode 94\tAverage Score: -0.41\n",
      "Episode 94\tScore: -4.00\n",
      "Episode 95\tAverage Score: -0.35\n",
      "Episode 95\tScore: 6.00\n",
      "Episode 96\tAverage Score: -0.31\n",
      "Episode 96\tScore: 3.00\n",
      "Episode 97\tAverage Score: -0.28\n",
      "Episode 97\tScore: 3.00\n",
      "Episode 98\tAverage Score: -0.24\n",
      "Episode 98\tScore: 3.00\n",
      "Episode 99\tAverage Score: -0.22\n",
      "Episode 99\tScore: 2.00\n",
      "Episode 100\tAverage Score: -0.25\n",
      "Episode 100\tScore: -3.00\n",
      "Episode 100\tAverage Score: -0.25\n",
      "saved temporary learned weight\n"
     ]
    }
   ],
   "source": [
    "# if os.path.isfile('./checkpoint.pth'):\n",
    "#     # load the weights from file\n",
    "#     agent.qnetwork_local.load_state_dict(torch.load('checkpoint.pth'))\n",
    "    \n",
    "scores, average_scores = train_dqn(agent, n_episodes=100)"
   ]
  },
  {
   "cell_type": "code",
   "execution_count": 13,
   "metadata": {
    "scrolled": false
   },
   "outputs": [
    {
     "name": "stdout",
     "output_type": "stream",
     "text": [
      "[4.0, -8.0, 4.0, 1.0, 2.0, 2.0, 4.0, 1.0, 6.0, 4.0, 0.0, 1.0, 3.0, -2.0, -13.0, -7.0, 0.0, -3.0, -11.0, 6.0, 3.0, -6.0, -3.0, 3.0, 1.0, -13.0, -6.0, 3.0, 7.0, 3.0, -2.0, -1.0, 3.0, -1.0, 6.0, 4.0, -7.0, 0.0, -5.0, 1.0, -1.0, -5.0, -4.0, -3.0, 0.0, 3.0, 1.0, 1.0, 5.0, 3.0, -4.0, 3.0, 0.0, -3.0, 3.0, 2.0, -8.0, 3.0, -3.0, -3.0, 1.0, -6.0, 3.0, 7.0, -8.0, -3.0, 3.0, -4.0, -1.0, 2.0, 1.0, -7.0, -1.0, -4.0, 0.0, 3.0, -3.0, -3.0, 0.0, 4.0, -5.0, 3.0, 4.0, -1.0, -2.0, -2.0, 1.0, -8.0, 3.0, 2.0, 6.0, 2.0, 4.0, -4.0, 6.0, 3.0, 3.0, 3.0, 2.0, -3.0]\n",
      "[4.0, -2.0, 0.0, 0.25, 0.6, 0.8333333333333334, 1.2857142857142858, 1.25, 1.7777777777777777, 2.0, 1.8181818181818181, 1.75, 1.8461538461538463, 1.5714285714285714, 0.6, 0.125, 0.11764705882352941, -0.05555555555555555, -0.631578947368421, -0.3, -0.14285714285714285, -0.4090909090909091, -0.5217391304347826, -0.375, -0.32, -0.8076923076923077, -1.0, -0.8571428571428571, -0.5862068965517241, -0.4666666666666667, -0.5161290322580645, -0.53125, -0.42424242424242425, -0.4411764705882353, -0.2571428571428571, -0.1388888888888889, -0.32432432432432434, -0.3157894736842105, -0.4358974358974359, -0.4, -0.4146341463414634, -0.5238095238095238, -0.6046511627906976, -0.6590909090909091, -0.6444444444444445, -0.5652173913043478, -0.5319148936170213, -0.5, -0.3877551020408163, -0.32, -0.39215686274509803, -0.3269230769230769, -0.32075471698113206, -0.37037037037037035, -0.3090909090909091, -0.26785714285714285, -0.40350877192982454, -0.3448275862068966, -0.3898305084745763, -0.43333333333333335, -0.4098360655737705, -0.5, -0.4444444444444444, -0.328125, -0.4461538461538462, -0.48484848484848486, -0.43283582089552236, -0.4852941176470588, -0.4927536231884058, -0.45714285714285713, -0.43661971830985913, -0.5277777777777778, -0.5342465753424658, -0.581081081081081, -0.5733333333333334, -0.5263157894736842, -0.5584415584415584, -0.5897435897435898, -0.5822784810126582, -0.525, -0.5802469135802469, -0.5365853658536586, -0.4819277108433735, -0.4880952380952381, -0.5058823529411764, -0.5232558139534884, -0.5057471264367817, -0.5909090909090909, -0.550561797752809, -0.5222222222222223, -0.45054945054945056, -0.42391304347826086, -0.3763440860215054, -0.4148936170212766, -0.3473684210526316, -0.3125, -0.27835051546391754, -0.24489795918367346, -0.2222222222222222, -0.25]\n"
     ]
    }
   ],
   "source": [
    "print(scores)\n",
    "print(average_scores)"
   ]
  },
  {
   "cell_type": "markdown",
   "metadata": {},
   "source": [
    "#### 4. Plot performance"
   ]
  },
  {
   "cell_type": "code",
   "execution_count": 14,
   "metadata": {},
   "outputs": [
    {
     "data": {
      "image/png": "[encoded data removed]",
      "text/plain": [
       "<Figure size 432x288 with 1 Axes>"
      ]
     },
     "metadata": {
      "needs_background": "light"
     },
     "output_type": "display_data"
    }
   ],
   "source": [
    "# plot the scores\n",
    "fig = plt.figure()\n",
    "ax = fig.add_subplot(111)\n",
    "plt.plot(np.arange(len(average_scores)), average_scores)\n",
    "plt.ylabel('Average Scores')\n",
    "plt.xlabel('Episode #')\n",
    "plt.show()"
   ]
  },
  {
   "cell_type": "markdown",
   "metadata": {},
   "source": [
    "### 5. Watch a trained agent!"
   ]
  },
  {
   "cell_type": "code",
   "execution_count": 61,
   "metadata": {},
   "outputs": [],
   "source": [
    "# def watch_banana_agent(agent, env, n_episodes=4, n_steps=300):\n",
    "\n",
    "                                   \n",
    "    \n",
    "#     for episode in range(n_episodes):\n",
    "        \n",
    "#         env_info = env.reset(train_mode=False)[brain_name] # reset the environment\n",
    "#         state = env_info.vector_observations[0]            # get the current state\n",
    "#         score = 0                                          # initialize the score\n",
    "        \n",
    "#         for step in range(n_steps):\n",
    "\n",
    "#             action = agent.act(state)                 # select an action\n",
    "#             env_info = env.step(action)[brain_name]        # send the action to the environment\n",
    "#             next_state = env_info.vector_observations[0]   # get the next state\n",
    "#             reward = env_info.rewards[0]                   # get the reward\n",
    "#             done = env_info.local_done[0]                  # see if episode has finished\n",
    "#             score += reward                                # update the score\n",
    "#             state = next_state                             # roll over the state to next time step\n",
    "#             if done:                                       # exit loop if episode finished\n",
    "#                 break\n",
    "\n",
    "#         print(\"Score: {}\".format(score))"
   ]
  },
  {
   "cell_type": "code",
   "execution_count": 62,
   "metadata": {},
   "outputs": [],
   "source": [
    "# watch_banana_agent(agent, env)"
   ]
  },
  {
   "cell_type": "code",
   "execution_count": 15,
   "metadata": {},
   "outputs": [],
   "source": [
    "env.close()"
   ]
  },
  {
   "cell_type": "code",
   "execution_count": null,
   "metadata": {},
   "outputs": [],
   "source": []
  }
 ],
 "metadata": {
  "kernelspec": {
   "display_name": "Python 3 (ipykernel)",
   "language": "python",
   "name": "python3"
  },
  "language_info": {
   "codemirror_mode": {
    "name": "ipython",
    "version": 3
   },
   "file_extension": ".py",
   "mimetype": "text/x-python",
   "name": "python",
   "nbconvert_exporter": "python",
   "pygments_lexer": "ipython3",
   "version": "3.9.7"
  }
 },
 "nbformat": 4,
 "nbformat_minor": 4
}
