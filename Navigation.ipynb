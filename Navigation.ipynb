{
 "cells": [
  {
   "cell_type": "markdown",
   "metadata": {},
   "source": [
    "# Navigation\n",
    "---\n"
   ]
  },
  {
   "cell_type": "code",
   "execution_count": 1,
   "metadata": {},
   "outputs": [],
   "source": [
    "from mlagents_envs.environment import UnityEnvironment as UE\n",
    "import numpy as np\n",
    "import torch\n",
    "import random\n",
    "from collections import deque\n",
    "from dqn_agent import Agent\n",
    "import os\n",
    "import matplotlib.pyplot as plt\n",
    "%matplotlib inline"
   ]
  },
  {
   "cell_type": "code",
   "execution_count": 2,
   "metadata": {},
   "outputs": [],
   "source": [
    "ENV_PATH = \"environment-MAC/en.app\""
   ]
  },
  {
   "cell_type": "markdown",
   "metadata": {},
   "source": [
    "### 1. Initialise customised Banana Collecter environment"
   ]
  },
  {
   "cell_type": "markdown",
   "metadata": {},
   "source": [
    "Environments contain **_brains_** which are responsible for deciding the actions of their associated agents. Here we check for the first brain available, and set it as the default brain we will be controlling from Python."
   ]
  },
  {
   "cell_type": "code",
   "execution_count": 3,
   "metadata": {},
   "outputs": [],
   "source": [
    "def initialise_env(ENV_PATH):\n",
    "    # env = UnityEnvironment(file_name=ENV_PATH)\n",
    "    env = UE(base_port=5004,file_name=ENV_PATH, seed=1, side_channels=[])\n",
    "    env.step()\n",
    "    # in this project, we are only using one agent, so we will only work on the first `brain` in the environmet\n",
    "    # get the default brain\n",
    "    # brain_name = env.brain_names[0]\n",
    "    brain_name = list(env.behavior_specs.keys())[0]\n",
    "    # brain = env.brains[brain_name]\n",
    "    brain = env.behavior_specs[brain_name]\n",
    "    return env, brain, brain_name"
   ]
  },
  {
   "cell_type": "code",
   "execution_count": 4,
   "metadata": {},
   "outputs": [],
   "source": [
    "# env = UE(file_name=ENV_PATH, seed=1, side_channels=[])"
   ]
  },
  {
   "cell_type": "code",
   "execution_count": 5,
   "metadata": {},
   "outputs": [],
   "source": [
    "# test = env.behavior_specs.keys()\n",
    "# print(list(test)[0])\n",
    "# for t in test:\n",
    "#     print(t)"
   ]
  },
  {
   "cell_type": "code",
   "execution_count": 6,
   "metadata": {},
   "outputs": [],
   "source": [
    "# brain_name = list(env.behavior_specs.keys())[0]\n",
    "# print(brain_name)"
   ]
  },
  {
   "cell_type": "code",
   "execution_count": 7,
   "metadata": {},
   "outputs": [],
   "source": [
    "# brain = env.behavior_specs[brain_name]"
   ]
  },
  {
   "cell_type": "code",
   "execution_count": 8,
   "metadata": {},
   "outputs": [
    {
     "name": "stderr",
     "output_type": "stream",
     "text": [
      "E0614 16:07:11.126702000 8640914944 fork_posix.cc:76]                  Other threads are currently calling into gRPC, skipping fork() handlers\n"
     ]
    },
    {
     "name": "stdout",
     "output_type": "stream",
     "text": [
      "[UnityMemory] Configuration Parameters - Can be set up in boot.config\n",
      "    \"memorysetup-bucket-allocator-granularity=16\"\n",
      "    \"memorysetup-bucket-allocator-bucket-count=8\"\n",
      "    \"memorysetup-bucket-allocator-block-size=4194304\"\n",
      "    \"memorysetup-bucket-allocator-block-count=1\"\n",
      "    \"memorysetup-main-allocator-block-size=16777216\"\n",
      "    \"memorysetup-thread-allocator-block-size=16777216\"\n",
      "    \"memorysetup-gfx-main-allocator-block-size=16777216\"\n",
      "    \"memorysetup-gfx-thread-allocator-block-size=16777216\"\n",
      "    \"memorysetup-cache-allocator-block-size=4194304\"\n",
      "    \"memorysetup-typetree-allocator-block-size=2097152\"\n",
      "    \"memorysetup-profiler-bucket-allocator-granularity=16\"\n",
      "    \"memorysetup-profiler-bucket-allocator-bucket-count=8\"\n",
      "    \"memorysetup-profiler-bucket-allocator-block-size=4194304\"\n",
      "    \"memorysetup-profiler-bucket-allocator-block-count=1\"\n",
      "    \"memorysetup-profiler-allocator-block-size=16777216\"\n",
      "    \"memorysetup-profiler-editor-allocator-block-size=1048576\"\n",
      "    \"memorysetup-temp-allocator-size-main=4194304\"\n",
      "    \"memorysetup-job-temp-allocator-block-size=2097152\"\n",
      "    \"memorysetup-job-temp-allocator-block-size-background=1048576\"\n",
      "    \"memorysetup-job-temp-allocator-reduction-small-platforms=262144\"\n",
      "    \"memorysetup-temp-allocator-size-background-worker=32768\"\n",
      "    \"memorysetup-temp-allocator-size-job-worker=262144\"\n",
      "    \"memorysetup-temp-allocator-size-preload-manager=262144\"\n",
      "    \"memorysetup-temp-allocator-size-nav-mesh-worker=65536\"\n",
      "    \"memorysetup-temp-allocator-size-audio-worker=65536\"\n",
      "    \"memorysetup-temp-allocator-size-cloud-worker=32768\"\n",
      "    \"memorysetup-temp-allocator-size-gfx=262144\"\n"
     ]
    }
   ],
   "source": [
    "env, brain, brain_name = initialise_env(ENV_PATH)"
   ]
  },
  {
   "cell_type": "code",
   "execution_count": 9,
   "metadata": {},
   "outputs": [],
   "source": [
    "# print(brain_name)"
   ]
  },
  {
   "cell_type": "code",
   "execution_count": 10,
   "metadata": {},
   "outputs": [],
   "source": [
    "# 先让他走几步直到需要交互\n",
    "# env.step()"
   ]
  },
  {
   "cell_type": "markdown",
   "metadata": {},
   "source": [
    "### State and Action Spaces\n",
    "\n",
    "The simulation contains a single agent that navigates a large environment.  At each time step, it has four actions at its disposal:\n",
    "- `0` - walk forward \n",
    "- `1` - walk backward\n",
    "- `2` - turn left\n",
    "- `3` - turn right\n",
    "\n",
    "The state space has `37` dimensions and contains the agent's velocity, along with ray-based perception of objects around agent's forward direction.  A reward of `+1` is provided for collecting a yellow banana, and a reward of `-1` is provided for collecting a blue banana. \n",
    "\n"
   ]
  },
  {
   "cell_type": "markdown",
   "metadata": {},
   "source": [
    "### 2. Initialise the agent"
   ]
  },
  {
   "cell_type": "code",
   "execution_count": 11,
   "metadata": {},
   "outputs": [
    {
     "name": "stdout",
     "output_type": "stream",
     "text": [
      "BehaviorSpec(observation_specs=[ObservationSpec(shape=(84, 84, 3), dimension_property=(<DimensionProperty.TRANSLATIONAL_EQUIVARIANCE: 2>, <DimensionProperty.TRANSLATIONAL_EQUIVARIANCE: 2>, <DimensionProperty.NONE: 1>), observation_type=<ObservationType.DEFAULT: 0>, name='CameraSensor'), ObservationSpec(shape=(0,), dimension_property=(<DimensionProperty.NONE: 1>,), observation_type=<ObservationType.DEFAULT: 0>, name='VectorSensor'), ObservationSpec(shape=(4,), dimension_property=(<DimensionProperty.NONE: 1>,), observation_type=<ObservationType.DEFAULT: 0>, name='VectorSensor_size4')], action_spec=ActionSpec(continuous_size=0, discrete_branches=(5,)))\n"
     ]
    }
   ],
   "source": [
    "spec = env.behavior_specs['My Behavior?team=0']\n",
    "print(spec)"
   ]
  },
  {
   "cell_type": "code",
   "execution_count": 12,
   "metadata": {},
   "outputs": [],
   "source": [
    "# reset the environment\n",
    "#env_info = env.reset(train_mode=True)[brain_name]\n",
    "env_info = env.reset()\n",
    "#action_size = brain.vector_action_space_size\n",
    "#state_size = len(env_info.vector_observations[0])\n",
    "#agent = Agent(state_size=state_size, action_size=action_size, seed=0)"
   ]
  },
  {
   "cell_type": "code",
   "execution_count": 13,
   "metadata": {},
   "outputs": [
    {
     "name": "stdout",
     "output_type": "stream",
     "text": [
      "None\n"
     ]
    }
   ],
   "source": [
    "print(env_info)"
   ]
  },
  {
   "cell_type": "code",
   "execution_count": 14,
   "metadata": {},
   "outputs": [],
   "source": [
    "action_size = list(brain.action_spec)[1][0]"
   ]
  },
  {
   "cell_type": "code",
   "execution_count": 15,
   "metadata": {},
   "outputs": [],
   "source": [
    "# change\n",
    "# decision_steps.obs[0].shape"
   ]
  },
  {
   "cell_type": "code",
   "execution_count": 16,
   "metadata": {},
   "outputs": [
    {
     "name": "stdout",
     "output_type": "stream",
     "text": [
      "[ObservationSpec(shape=(84, 84, 3), dimension_property=(<DimensionProperty.TRANSLATIONAL_EQUIVARIANCE: 2>, <DimensionProperty.TRANSLATIONAL_EQUIVARIANCE: 2>, <DimensionProperty.NONE: 1>), observation_type=<ObservationType.DEFAULT: 0>, name='CameraSensor'), ObservationSpec(shape=(0,), dimension_property=(<DimensionProperty.NONE: 1>,), observation_type=<ObservationType.DEFAULT: 0>, name='VectorSensor'), ObservationSpec(shape=(4,), dimension_property=(<DimensionProperty.NONE: 1>,), observation_type=<ObservationType.DEFAULT: 0>, name='VectorSensor_size4')]\n"
     ]
    }
   ],
   "source": [
    "print(brain.observation_specs)"
   ]
  },
  {
   "cell_type": "code",
   "execution_count": 17,
   "metadata": {},
   "outputs": [],
   "source": [
    "state_size = len(brain.observation_specs[0])"
   ]
  },
  {
   "cell_type": "code",
   "execution_count": 18,
   "metadata": {},
   "outputs": [],
   "source": [
    "#state_size = len(env_info.vector_observations[0])\n",
    "# state size 要改\n",
    "agent = Agent(state_size=state_size, action_size=action_size, seed=0)"
   ]
  },
  {
   "cell_type": "markdown",
   "metadata": {},
   "source": [
    "### 3. Train agent"
   ]
  },
  {
   "cell_type": "code",
   "execution_count": 19,
   "metadata": {},
   "outputs": [],
   "source": [
    "# import torchvision.transforms as transforms\n",
    "actions = []\n",
    "for act in range(5):\n",
    "    actions.append(spec.action_spec.empty_action(1))\n",
    "    actions[act].add_discrete(np.int32([[act]]))\n",
    "stop = actions[0]\n",
    "forward = actions[1]\n",
    "backward = actions[2]\n",
    "turn_right = actions[3]\n",
    "turn_left = actions[4]\n",
    "def train_dqn(agent, n_episodes=2, max_t=10, eps_start=1.0, eps_end=0.1, eps_decay=0.995):\n",
    "    \"\"\"Deep Q-Learning.\n",
    "    \n",
    "    Params\n",
    "    ======\n",
    "        n_episodes (int): maximum number of training episodes\n",
    "        max_t (int): maximum number of timesteps per episode\n",
    "        eps_start (float): starting value of epsilon, for epsilon-greedy action selection\n",
    "        eps_end (float): minimum value of epsilon\n",
    "        eps_decay (float): multiplicative factor (per episode) for decreasing epsilon\n",
    "    \"\"\"\n",
    "    scores = []                        # list containing scores from each episode\n",
    "    scores_window = deque(maxlen=100)  # last 100 scores\n",
    "    eps = eps_start                    # initialize epsilon\n",
    "    rewards =0\n",
    "    reward =0\n",
    "    for i_episode in range(1, n_episodes+1):\n",
    "        decision_steps, terminal_steps = env.get_steps(brain_name)\n",
    "        state = np.moveaxis(decision_steps.obs[0], -1, 0)\n",
    "        tracked_agent = -1\n",
    "        done = False\n",
    "        score = 0\n",
    "        for t in range(max_t):\n",
    "            if tracked_agent == -1 and len(decision_steps) >= 1:\n",
    "                tracked_agent = decision_steps.agent_id[0]\n",
    "            if not state.shape == (3, 1, 84, 84):\n",
    "                continue\n",
    "                \n",
    "            action = agent.act(state, eps)\n",
    "            env.set_actions(brain_name, actions[action])\n",
    "            env.step()\n",
    "            decision_steps, terminal_steps = env.get_steps(brain_name)\n",
    "            \n",
    "            next_state = np.moveaxis(decision_steps.obs[0], -1, 0)   # get the next state\n",
    "            \n",
    "            if tracked_agent in decision_steps:# The agent requested a decision\n",
    "                reward += decision_steps[tracked_agent].reward  # get the reward\n",
    "                agent.step(state, action, reward, next_state, False)\n",
    "            if tracked_agent in terminal_steps: # The agent terminated its episode\n",
    "                rewards += terminal_steps[tracked_agent].reward# get the reward\n",
    "                agent.step(state, action, reward, next_state, True)\n",
    "                break\n",
    "            state = next_state\n",
    "            score += reward\n",
    "            \n",
    "        print(score)\n",
    "        scores_window.append(score)       # save most recent score\n",
    "        print(scores_window)\n",
    "        scores.append(score)              # save most recent score\n",
    "        eps = max(eps_end, eps_decay*eps) # decrease epsilon\n",
    "        print('\\rEpisode {}\\tAverage Score: {:.2f}'.format(i_episode, np.mean(scores_window)), end=\"\")\n",
    "#         if i_episode % 100 == 0:\n",
    "#             print('\\rEpisode {}\\tAverage Score: {:.2f}'.format(i_episode, np.mean(scores_window)))\n",
    "#             torch.save(agent.qnetwork_local.state_dict(), 'checkpoint.pth')\n",
    "#             print('saved temporary learned weight')\n",
    "#         if np.mean(scores_window)>=13.0:\n",
    "#             print('\\nEnvironment solved in {:d} episodes!\\tAverage Score: {:.2f}'.format(i_episode-100, np.mean(scores_window)))\n",
    "#             torch.save(agent.qnetwork_local.state_dict(), 'checkpoint.pth')\n",
    "#             print('agent done training')\n",
    "#             break\n",
    "    return scores\n"
   ]
  },
  {
   "cell_type": "code",
   "execution_count": null,
   "metadata": {},
   "outputs": [
    {
     "name": "stdout",
     "output_type": "stream",
     "text": [
      "100.0\n",
      "deque([100.0], maxlen=100)\n",
      "Episode 1\tAverage Score: 100.0095.0\n",
      "deque([100.0, 95.0], maxlen=100)\n",
      "Episode 2\tAverage Score: 97.5084.0\n",
      "deque([100.0, 95.0, 84.0], maxlen=100)\n",
      "Episode 3\tAverage Score: 93.0073.0\n",
      "deque([100.0, 95.0, 84.0, 73.0], maxlen=100)\n",
      "Episode 4\tAverage Score: 88.0070.0\n",
      "deque([100.0, 95.0, 84.0, 73.0, 70.0], maxlen=100)\n",
      "Episode 5\tAverage Score: 84.4070.0\n",
      "deque([100.0, 95.0, 84.0, 73.0, 70.0, 70.0], maxlen=100)\n",
      "Episode 6\tAverage Score: 82.0066.0\n",
      "deque([100.0, 95.0, 84.0, 73.0, 70.0, 70.0, 66.0], maxlen=100)\n",
      "Episode 7\tAverage Score: 79.7150.0\n",
      "deque([100.0, 95.0, 84.0, 73.0, 70.0, 70.0, 66.0, 50.0], maxlen=100)\n",
      "Episode 8\tAverage Score: 76.00110.0\n",
      "deque([100.0, 95.0, 84.0, 73.0, 70.0, 70.0, 66.0, 50.0, 110.0], maxlen=100)\n",
      "Episode 9\tAverage Score: 79.78150.0\n",
      "deque([100.0, 95.0, 84.0, 73.0, 70.0, 70.0, 66.0, 50.0, 110.0, 150.0], maxlen=100)\n",
      "Episode 10\tAverage Score: 86.80150.0\n",
      "deque([100.0, 95.0, 84.0, 73.0, 70.0, 70.0, 66.0, 50.0, 110.0, 150.0, 150.0], maxlen=100)\n",
      "Episode 11\tAverage Score: 92.55150.0\n",
      "deque([100.0, 95.0, 84.0, 73.0, 70.0, 70.0, 66.0, 50.0, 110.0, 150.0, 150.0, 150.0], maxlen=100)\n",
      "Episode 12\tAverage Score: 97.33139.0\n",
      "deque([100.0, 95.0, 84.0, 73.0, 70.0, 70.0, 66.0, 50.0, 110.0, 150.0, 150.0, 150.0, 139.0], maxlen=100)\n",
      "Episode 13\tAverage Score: 100.54127.0\n",
      "deque([100.0, 95.0, 84.0, 73.0, 70.0, 70.0, 66.0, 50.0, 110.0, 150.0, 150.0, 150.0, 139.0, 127.0], maxlen=100)\n",
      "Episode 14\tAverage Score: 102.43110.0\n",
      "deque([100.0, 95.0, 84.0, 73.0, 70.0, 70.0, 66.0, 50.0, 110.0, 150.0, 150.0, 150.0, 139.0, 127.0, 110.0], maxlen=100)\n",
      "Episode 15\tAverage Score: 102.93110.0\n",
      "deque([100.0, 95.0, 84.0, 73.0, 70.0, 70.0, 66.0, 50.0, 110.0, 150.0, 150.0, 150.0, 139.0, 127.0, 110.0, 110.0], maxlen=100)\n",
      "Episode 16\tAverage Score: 103.38110.0\n",
      "deque([100.0, 95.0, 84.0, 73.0, 70.0, 70.0, 66.0, 50.0, 110.0, 150.0, 150.0, 150.0, 139.0, 127.0, 110.0, 110.0, 110.0], maxlen=100)\n",
      "Episode 17\tAverage Score: 103.76110.0\n",
      "deque([100.0, 95.0, 84.0, 73.0, 70.0, 70.0, 66.0, 50.0, 110.0, 150.0, 150.0, 150.0, 139.0, 127.0, 110.0, 110.0, 110.0, 110.0], maxlen=100)\n",
      "Episode 18\tAverage Score: 104.11110.0\n",
      "deque([100.0, 95.0, 84.0, 73.0, 70.0, 70.0, 66.0, 50.0, 110.0, 150.0, 150.0, 150.0, 139.0, 127.0, 110.0, 110.0, 110.0, 110.0, 110.0], maxlen=100)\n",
      "Episode 19\tAverage Score: 104.42110.0\n",
      "deque([100.0, 95.0, 84.0, 73.0, 70.0, 70.0, 66.0, 50.0, 110.0, 150.0, 150.0, 150.0, 139.0, 127.0, 110.0, 110.0, 110.0, 110.0, 110.0, 110.0], maxlen=100)\n",
      "Episode 20\tAverage Score: 104.70110.0\n",
      "deque([100.0, 95.0, 84.0, 73.0, 70.0, 70.0, 66.0, 50.0, 110.0, 150.0, 150.0, 150.0, 139.0, 127.0, 110.0, 110.0, 110.0, 110.0, 110.0, 110.0, 110.0], maxlen=100)\n",
      "Episode 21\tAverage Score: 104.95104.0\n",
      "deque([100.0, 95.0, 84.0, 73.0, 70.0, 70.0, 66.0, 50.0, 110.0, 150.0, 150.0, 150.0, 139.0, 127.0, 110.0, 110.0, 110.0, 110.0, 110.0, 110.0, 110.0, 104.0], maxlen=100)\n",
      "Episode 22\tAverage Score: 104.9190.0\n",
      "deque([100.0, 95.0, 84.0, 73.0, 70.0, 70.0, 66.0, 50.0, 110.0, 150.0, 150.0, 150.0, 139.0, 127.0, 110.0, 110.0, 110.0, 110.0, 110.0, 110.0, 110.0, 104.0, 90.0], maxlen=100)\n",
      "Episode 23\tAverage Score: 104.2685.0\n",
      "deque([100.0, 95.0, 84.0, 73.0, 70.0, 70.0, 66.0, 50.0, 110.0, 150.0, 150.0, 150.0, 139.0, 127.0, 110.0, 110.0, 110.0, 110.0, 110.0, 110.0, 110.0, 104.0, 90.0, 85.0], maxlen=100)\n",
      "Episode 24\tAverage Score: 103.4678.0\n",
      "deque([100.0, 95.0, 84.0, 73.0, 70.0, 70.0, 66.0, 50.0, 110.0, 150.0, 150.0, 150.0, 139.0, 127.0, 110.0, 110.0, 110.0, 110.0, 110.0, 110.0, 110.0, 104.0, 90.0, 85.0, 78.0], maxlen=100)\n",
      "Episode 25\tAverage Score: 102.4480.0\n",
      "deque([100.0, 95.0, 84.0, 73.0, 70.0, 70.0, 66.0, 50.0, 110.0, 150.0, 150.0, 150.0, 139.0, 127.0, 110.0, 110.0, 110.0, 110.0, 110.0, 110.0, 110.0, 104.0, 90.0, 85.0, 78.0, 80.0], maxlen=100)\n",
      "Episode 26\tAverage Score: 101.58220.0\n",
      "deque([100.0, 95.0, 84.0, 73.0, 70.0, 70.0, 66.0, 50.0, 110.0, 150.0, 150.0, 150.0, 139.0, 127.0, 110.0, 110.0, 110.0, 110.0, 110.0, 110.0, 110.0, 104.0, 90.0, 85.0, 78.0, 80.0, 220.0], maxlen=100)\n",
      "Episode 27\tAverage Score: 105.96260.0\n",
      "deque([100.0, 95.0, 84.0, 73.0, 70.0, 70.0, 66.0, 50.0, 110.0, 150.0, 150.0, 150.0, 139.0, 127.0, 110.0, 110.0, 110.0, 110.0, 110.0, 110.0, 110.0, 104.0, 90.0, 85.0, 78.0, 80.0, 220.0, 260.0], maxlen=100)\n",
      "Episode 28\tAverage Score: 111.46260.0\n",
      "deque([100.0, 95.0, 84.0, 73.0, 70.0, 70.0, 66.0, 50.0, 110.0, 150.0, 150.0, 150.0, 139.0, 127.0, 110.0, 110.0, 110.0, 110.0, 110.0, 110.0, 110.0, 104.0, 90.0, 85.0, 78.0, 80.0, 220.0, 260.0, 260.0], maxlen=100)\n",
      "Episode 29\tAverage Score: 116.59260.0\n",
      "deque([100.0, 95.0, 84.0, 73.0, 70.0, 70.0, 66.0, 50.0, 110.0, 150.0, 150.0, 150.0, 139.0, 127.0, 110.0, 110.0, 110.0, 110.0, 110.0, 110.0, 110.0, 104.0, 90.0, 85.0, 78.0, 80.0, 220.0, 260.0, 260.0, 260.0], maxlen=100)\n",
      "Episode 30\tAverage Score: 121.37350.0\n",
      "deque([100.0, 95.0, 84.0, 73.0, 70.0, 70.0, 66.0, 50.0, 110.0, 150.0, 150.0, 150.0, 139.0, 127.0, 110.0, 110.0, 110.0, 110.0, 110.0, 110.0, 110.0, 104.0, 90.0, 85.0, 78.0, 80.0, 220.0, 260.0, 260.0, 260.0, 350.0], maxlen=100)\n",
      "Episode 31\tAverage Score: 128.74360.0\n",
      "deque([100.0, 95.0, 84.0, 73.0, 70.0, 70.0, 66.0, 50.0, 110.0, 150.0, 150.0, 150.0, 139.0, 127.0, 110.0, 110.0, 110.0, 110.0, 110.0, 110.0, 110.0, 104.0, 90.0, 85.0, 78.0, 80.0, 220.0, 260.0, 260.0, 260.0, 350.0, 360.0], maxlen=100)\n",
      "Episode 32\tAverage Score: 135.97360.0\n",
      "deque([100.0, 95.0, 84.0, 73.0, 70.0, 70.0, 66.0, 50.0, 110.0, 150.0, 150.0, 150.0, 139.0, 127.0, 110.0, 110.0, 110.0, 110.0, 110.0, 110.0, 110.0, 104.0, 90.0, 85.0, 78.0, 80.0, 220.0, 260.0, 260.0, 260.0, 350.0, 360.0, 360.0], maxlen=100)\n",
      "Episode 33\tAverage Score: 142.76360.0\n",
      "deque([100.0, 95.0, 84.0, 73.0, 70.0, 70.0, 66.0, 50.0, 110.0, 150.0, 150.0, 150.0, 139.0, 127.0, 110.0, 110.0, 110.0, 110.0, 110.0, 110.0, 110.0, 104.0, 90.0, 85.0, 78.0, 80.0, 220.0, 260.0, 260.0, 260.0, 350.0, 360.0, 360.0, 360.0], maxlen=100)\n",
      "Episode 34\tAverage Score: 149.15352.0\n",
      "deque([100.0, 95.0, 84.0, 73.0, 70.0, 70.0, 66.0, 50.0, 110.0, 150.0, 150.0, 150.0, 139.0, 127.0, 110.0, 110.0, 110.0, 110.0, 110.0, 110.0, 110.0, 104.0, 90.0, 85.0, 78.0, 80.0, 220.0, 260.0, 260.0, 260.0, 350.0, 360.0, 360.0, 360.0, 352.0], maxlen=100)\n",
      "Episode 35\tAverage Score: 154.94341.0\n",
      "deque([100.0, 95.0, 84.0, 73.0, 70.0, 70.0, 66.0, 50.0, 110.0, 150.0, 150.0, 150.0, 139.0, 127.0, 110.0, 110.0, 110.0, 110.0, 110.0, 110.0, 110.0, 104.0, 90.0, 85.0, 78.0, 80.0, 220.0, 260.0, 260.0, 260.0, 350.0, 360.0, 360.0, 360.0, 352.0, 341.0], maxlen=100)\n",
      "Episode 36\tAverage Score: 160.11326.0\n",
      "deque([100.0, 95.0, 84.0, 73.0, 70.0, 70.0, 66.0, 50.0, 110.0, 150.0, 150.0, 150.0, 139.0, 127.0, 110.0, 110.0, 110.0, 110.0, 110.0, 110.0, 110.0, 104.0, 90.0, 85.0, 78.0, 80.0, 220.0, 260.0, 260.0, 260.0, 350.0, 360.0, 360.0, 360.0, 352.0, 341.0, 326.0], maxlen=100)\n",
      "Episode 37\tAverage Score: 164.59310.0\n",
      "deque([100.0, 95.0, 84.0, 73.0, 70.0, 70.0, 66.0, 50.0, 110.0, 150.0, 150.0, 150.0, 139.0, 127.0, 110.0, 110.0, 110.0, 110.0, 110.0, 110.0, 110.0, 104.0, 90.0, 85.0, 78.0, 80.0, 220.0, 260.0, 260.0, 260.0, 350.0, 360.0, 360.0, 360.0, 352.0, 341.0, 326.0, 310.0], maxlen=100)\n",
      "Episode 38\tAverage Score: 168.42294.0\n",
      "deque([100.0, 95.0, 84.0, 73.0, 70.0, 70.0, 66.0, 50.0, 110.0, 150.0, 150.0, 150.0, 139.0, 127.0, 110.0, 110.0, 110.0, 110.0, 110.0, 110.0, 110.0, 104.0, 90.0, 85.0, 78.0, 80.0, 220.0, 260.0, 260.0, 260.0, 350.0, 360.0, 360.0, 360.0, 352.0, 341.0, 326.0, 310.0, 294.0], maxlen=100)\n",
      "Episode 39\tAverage Score: 171.64290.0\n",
      "deque([100.0, 95.0, 84.0, 73.0, 70.0, 70.0, 66.0, 50.0, 110.0, 150.0, 150.0, 150.0, 139.0, 127.0, 110.0, 110.0, 110.0, 110.0, 110.0, 110.0, 110.0, 104.0, 90.0, 85.0, 78.0, 80.0, 220.0, 260.0, 260.0, 260.0, 350.0, 360.0, 360.0, 360.0, 352.0, 341.0, 326.0, 310.0, 294.0, 290.0], maxlen=100)\n",
      "Episode 40\tAverage Score: 174.60290.0\n",
      "deque([100.0, 95.0, 84.0, 73.0, 70.0, 70.0, 66.0, 50.0, 110.0, 150.0, 150.0, 150.0, 139.0, 127.0, 110.0, 110.0, 110.0, 110.0, 110.0, 110.0, 110.0, 104.0, 90.0, 85.0, 78.0, 80.0, 220.0, 260.0, 260.0, 260.0, 350.0, 360.0, 360.0, 360.0, 352.0, 341.0, 326.0, 310.0, 294.0, 290.0, 290.0], maxlen=100)\n",
      "Episode 41\tAverage Score: 177.41290.0\n",
      "deque([100.0, 95.0, 84.0, 73.0, 70.0, 70.0, 66.0, 50.0, 110.0, 150.0, 150.0, 150.0, 139.0, 127.0, 110.0, 110.0, 110.0, 110.0, 110.0, 110.0, 110.0, 104.0, 90.0, 85.0, 78.0, 80.0, 220.0, 260.0, 260.0, 260.0, 350.0, 360.0, 360.0, 360.0, 352.0, 341.0, 326.0, 310.0, 294.0, 290.0, 290.0, 290.0], maxlen=100)\n"
     ]
    },
    {
     "name": "stdout",
     "output_type": "stream",
     "text": [
      "Episode 42\tAverage Score: 180.10290.0\n",
      "deque([100.0, 95.0, 84.0, 73.0, 70.0, 70.0, 66.0, 50.0, 110.0, 150.0, 150.0, 150.0, 139.0, 127.0, 110.0, 110.0, 110.0, 110.0, 110.0, 110.0, 110.0, 104.0, 90.0, 85.0, 78.0, 80.0, 220.0, 260.0, 260.0, 260.0, 350.0, 360.0, 360.0, 360.0, 352.0, 341.0, 326.0, 310.0, 294.0, 290.0, 290.0, 290.0, 290.0], maxlen=100)\n",
      "Episode 43\tAverage Score: 182.65290.0\n",
      "deque([100.0, 95.0, 84.0, 73.0, 70.0, 70.0, 66.0, 50.0, 110.0, 150.0, 150.0, 150.0, 139.0, 127.0, 110.0, 110.0, 110.0, 110.0, 110.0, 110.0, 110.0, 104.0, 90.0, 85.0, 78.0, 80.0, 220.0, 260.0, 260.0, 260.0, 350.0, 360.0, 360.0, 360.0, 352.0, 341.0, 326.0, 310.0, 294.0, 290.0, 290.0, 290.0, 290.0, 290.0], maxlen=100)\n",
      "Episode 44\tAverage Score: 185.09290.0\n",
      "deque([100.0, 95.0, 84.0, 73.0, 70.0, 70.0, 66.0, 50.0, 110.0, 150.0, 150.0, 150.0, 139.0, 127.0, 110.0, 110.0, 110.0, 110.0, 110.0, 110.0, 110.0, 104.0, 90.0, 85.0, 78.0, 80.0, 220.0, 260.0, 260.0, 260.0, 350.0, 360.0, 360.0, 360.0, 352.0, 341.0, 326.0, 310.0, 294.0, 290.0, 290.0, 290.0, 290.0, 290.0, 290.0], maxlen=100)\n",
      "Episode 45\tAverage Score: 187.42"
     ]
    }
   ],
   "source": [
    "if os.path.isfile('./checkpoint.pth'):\n",
    "    # load the weights from file\n",
    "    agent.qnetwork_local.load_state_dict(torch.load('checkpoint.pth'))\n",
    "    \n",
    "scores = train_dqn(agent, n_episodes=100)"
   ]
  },
  {
   "cell_type": "markdown",
   "metadata": {},
   "source": [
    "#### 4. Plot performance"
   ]
  },
  {
   "cell_type": "code",
   "execution_count": 31,
   "metadata": {},
   "outputs": [
    {
     "data": {
      "image/png": "[encoded data removed]",
      "text/plain": [
       "<Figure size 432x288 with 1 Axes>"
      ]
     },
     "metadata": {
      "needs_background": "light"
     },
     "output_type": "display_data"
    }
   ],
   "source": [
    "# plot the scores\n",
    "fig = plt.figure()\n",
    "ax = fig.add_subplot(111)\n",
    "plt.plot(np.arange(len(scores)), scores)\n",
    "plt.ylabel('Score')\n",
    "plt.xlabel('Episode #')\n",
    "plt.show()"
   ]
  },
  {
   "cell_type": "markdown",
   "metadata": {},
   "source": [
    "### 5. Watch a trained agent!"
   ]
  },
  {
   "cell_type": "code",
   "execution_count": 33,
   "metadata": {},
   "outputs": [],
   "source": [
    "# def watch_banana_agent(agent, env, n_episodes=4, n_steps=300):\n",
    "\n",
    "                                   \n",
    "    \n",
    "#     for episode in range(n_episodes):\n",
    "        \n",
    "#         env_info = env.reset(train_mode=False)[brain_name] # reset the environment\n",
    "#         state = env_info.vector_observations[0]            # get the current state\n",
    "#         score = 0                                          # initialize the score\n",
    "        \n",
    "#         for step in range(n_steps):\n",
    "\n",
    "#             action = agent.act(state)                 # select an action\n",
    "#             env_info = env.step(action)[brain_name]        # send the action to the environment\n",
    "#             next_state = env_info.vector_observations[0]   # get the next state\n",
    "#             reward = env_info.rewards[0]                   # get the reward\n",
    "#             done = env_info.local_done[0]                  # see if episode has finished\n",
    "#             score += reward                                # update the score\n",
    "#             state = next_state                             # roll over the state to next time step\n",
    "#             if done:                                       # exit loop if episode finished\n",
    "#                 break\n",
    "\n",
    "#         print(\"Score: {}\".format(score))"
   ]
  },
  {
   "cell_type": "code",
   "execution_count": 34,
   "metadata": {},
   "outputs": [
    {
     "ename": "TypeError",
     "evalue": "reset() got an unexpected keyword argument 'train_mode'",
     "output_type": "error",
     "traceback": [
      "\u001b[0;31m---------------------------------------------------------------------------\u001b[0m",
      "\u001b[0;31mTypeError\u001b[0m                                 Traceback (most recent call last)",
      "\u001b[0;32m/var/folders/p2/fj_ptp_x055gqt839fj3ws6m0000gn/T/ipykernel_67920/1660049170.py\u001b[0m in \u001b[0;36m<module>\u001b[0;34m\u001b[0m\n\u001b[0;32m----> 1\u001b[0;31m \u001b[0mwatch_banana_agent\u001b[0m\u001b[0;34m(\u001b[0m\u001b[0magent\u001b[0m\u001b[0;34m,\u001b[0m \u001b[0menv\u001b[0m\u001b[0;34m)\u001b[0m\u001b[0;34m\u001b[0m\u001b[0;34m\u001b[0m\u001b[0m\n\u001b[0m",
      "\u001b[0;32m/var/folders/p2/fj_ptp_x055gqt839fj3ws6m0000gn/T/ipykernel_67920/2633861598.py\u001b[0m in \u001b[0;36mwatch_banana_agent\u001b[0;34m(agent, env, n_episodes, n_steps)\u001b[0m\n\u001b[1;32m      5\u001b[0m     \u001b[0;32mfor\u001b[0m \u001b[0mepisode\u001b[0m \u001b[0;32min\u001b[0m \u001b[0mrange\u001b[0m\u001b[0;34m(\u001b[0m\u001b[0mn_episodes\u001b[0m\u001b[0;34m)\u001b[0m\u001b[0;34m:\u001b[0m\u001b[0;34m\u001b[0m\u001b[0;34m\u001b[0m\u001b[0m\n\u001b[1;32m      6\u001b[0m \u001b[0;34m\u001b[0m\u001b[0m\n\u001b[0;32m----> 7\u001b[0;31m         \u001b[0menv_info\u001b[0m \u001b[0;34m=\u001b[0m \u001b[0menv\u001b[0m\u001b[0;34m.\u001b[0m\u001b[0mreset\u001b[0m\u001b[0;34m(\u001b[0m\u001b[0mtrain_mode\u001b[0m\u001b[0;34m=\u001b[0m\u001b[0;32mFalse\u001b[0m\u001b[0;34m)\u001b[0m\u001b[0;34m[\u001b[0m\u001b[0mbrain_name\u001b[0m\u001b[0;34m]\u001b[0m \u001b[0;31m# reset the environment\u001b[0m\u001b[0;34m\u001b[0m\u001b[0;34m\u001b[0m\u001b[0m\n\u001b[0m\u001b[1;32m      8\u001b[0m         \u001b[0mstate\u001b[0m \u001b[0;34m=\u001b[0m \u001b[0menv_info\u001b[0m\u001b[0;34m.\u001b[0m\u001b[0mvector_observations\u001b[0m\u001b[0;34m[\u001b[0m\u001b[0;36m0\u001b[0m\u001b[0;34m]\u001b[0m            \u001b[0;31m# get the current state\u001b[0m\u001b[0;34m\u001b[0m\u001b[0;34m\u001b[0m\u001b[0m\n\u001b[1;32m      9\u001b[0m         \u001b[0mscore\u001b[0m \u001b[0;34m=\u001b[0m \u001b[0;36m0\u001b[0m                                          \u001b[0;31m# initialize the score\u001b[0m\u001b[0;34m\u001b[0m\u001b[0;34m\u001b[0m\u001b[0m\n",
      "\u001b[0;31mTypeError\u001b[0m: reset() got an unexpected keyword argument 'train_mode'"
     ]
    }
   ],
   "source": [
    "# watch_banana_agent(agent, env)"
   ]
  },
  {
   "cell_type": "code",
   "execution_count": 15,
   "metadata": {},
   "outputs": [],
   "source": [
    "env.close()"
   ]
  }
 ],
 "metadata": {
  "kernelspec": {
   "display_name": "Python 3 (ipykernel)",
   "language": "python",
   "name": "python3"
  },
  "language_info": {
   "codemirror_mode": {
    "name": "ipython",
    "version": 3
   },
   "file_extension": ".py",
   "mimetype": "text/x-python",
   "name": "python",
   "nbconvert_exporter": "python",
   "pygments_lexer": "ipython3",
   "version": "3.9.12"
  }
 },
 "nbformat": 4,
 "nbformat_minor": 4
}
